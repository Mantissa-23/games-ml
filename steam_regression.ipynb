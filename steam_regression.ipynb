{
 "cells": [
  {
   "cell_type": "code",
   "execution_count": 61,
   "metadata": {},
   "outputs": [],
   "source": [
    "import numpy as np\n",
    "import matplotlib.pyplot as plt\n",
    "import pandas as pd\n",
    "import time\n",
    "from sklearn.model_selection import train_test_split, cross_val_score"
   ]
  },
  {
   "cell_type": "markdown",
   "metadata": {},
   "source": [
    "# Videogames Analysis\n",
    "\n",
    "## Datasets\n",
    "\n",
    "### Steam Games\n",
    "\n",
    "The Steam dataset originates from https://data.world/craigkelly/steam-game-data and was created by Craig Kelly. The dataset includes ownership data on over 40,000 videogames on the Steam digital distribution platform, and features such as genre, full text descriptions (written by the publisher/developer of the game), descriptive tags, supported languages, release dates, and reviewer scores. I'm interested in this dataset because I intend to publish a game within the next few years and I'm curious as to whether or not certain features are correlated with game popularity.\n"
   ]
  },
  {
   "cell_type": "code",
   "execution_count": 3,
   "metadata": {},
   "outputs": [],
   "source": [
    "steam = pd.read_csv(\"data/games-features.csv\")"
   ]
  },
  {
   "cell_type": "code",
   "execution_count": 4,
   "metadata": {},
   "outputs": [
    {
     "name": "stdout",
     "output_type": "stream",
     "text": [
      "Index(['QueryID', 'ResponseID', 'QueryName', 'ResponseName', 'ReleaseDate',\n",
      "       'RequiredAge', 'DemoCount', 'DeveloperCount', 'DLCCount', 'Metacritic',\n",
      "       'MovieCount', 'PackageCount', 'RecommendationCount', 'PublisherCount',\n",
      "       'ScreenshotCount', 'SteamSpyOwners', 'SteamSpyOwnersVariance',\n",
      "       'SteamSpyPlayersEstimate', 'SteamSpyPlayersVariance',\n",
      "       'AchievementCount', 'AchievementHighlightedCount', 'ControllerSupport',\n",
      "       'IsFree', 'FreeVerAvail', 'PurchaseAvail', 'SubscriptionAvail',\n",
      "       'PlatformWindows', 'PlatformLinux', 'PlatformMac', 'PCReqsHaveMin',\n",
      "       'PCReqsHaveRec', 'LinuxReqsHaveMin', 'LinuxReqsHaveRec',\n",
      "       'MacReqsHaveMin', 'MacReqsHaveRec', 'CategorySinglePlayer',\n",
      "       'CategoryMultiplayer', 'CategoryCoop', 'CategoryMMO',\n",
      "       'CategoryInAppPurchase', 'CategoryIncludeSrcSDK',\n",
      "       'CategoryIncludeLevelEditor', 'CategoryVRSupport', 'GenreIsNonGame',\n",
      "       'GenreIsIndie', 'GenreIsAction', 'GenreIsAdventure', 'GenreIsCasual',\n",
      "       'GenreIsStrategy', 'GenreIsRPG', 'GenreIsSimulation',\n",
      "       'GenreIsEarlyAccess', 'GenreIsFreeToPlay', 'GenreIsSports',\n",
      "       'GenreIsRacing', 'GenreIsMassivelyMultiplayer', 'PriceCurrency',\n",
      "       'PriceInitial', 'PriceFinal', 'SupportEmail', 'SupportURL', 'AboutText',\n",
      "       'Background', 'ShortDescrip', 'DetailedDescrip', 'DRMNotice',\n",
      "       'ExtUserAcctNotice', 'HeaderImage', 'LegalNotice', 'Reviews',\n",
      "       'SupportedLanguages', 'Website', 'PCMinReqsText', 'PCRecReqsText',\n",
      "       'LinuxMinReqsText', 'LinuxRecReqsText', 'MacMinReqsText',\n",
      "       'MacRecReqsText'],\n",
      "      dtype='object')\n"
     ]
    }
   ],
   "source": [
    "print(steam.columns)"
   ]
  },
  {
   "cell_type": "code",
   "execution_count": 5,
   "metadata": {},
   "outputs": [
    {
     "data": {
      "text/html": [
       "<div>\n",
       "<style scoped>\n",
       "    .dataframe tbody tr th:only-of-type {\n",
       "        vertical-align: middle;\n",
       "    }\n",
       "\n",
       "    .dataframe tbody tr th {\n",
       "        vertical-align: top;\n",
       "    }\n",
       "\n",
       "    .dataframe thead th {\n",
       "        text-align: right;\n",
       "    }\n",
       "</style>\n",
       "<table border=\"1\" class=\"dataframe\">\n",
       "  <thead>\n",
       "    <tr style=\"text-align: right;\">\n",
       "      <th></th>\n",
       "      <th>QueryID</th>\n",
       "      <th>ResponseID</th>\n",
       "      <th>QueryName</th>\n",
       "      <th>ResponseName</th>\n",
       "      <th>ReleaseDate</th>\n",
       "      <th>RequiredAge</th>\n",
       "      <th>DemoCount</th>\n",
       "      <th>DeveloperCount</th>\n",
       "      <th>DLCCount</th>\n",
       "      <th>Metacritic</th>\n",
       "      <th>...</th>\n",
       "      <th>LegalNotice</th>\n",
       "      <th>Reviews</th>\n",
       "      <th>SupportedLanguages</th>\n",
       "      <th>Website</th>\n",
       "      <th>PCMinReqsText</th>\n",
       "      <th>PCRecReqsText</th>\n",
       "      <th>LinuxMinReqsText</th>\n",
       "      <th>LinuxRecReqsText</th>\n",
       "      <th>MacMinReqsText</th>\n",
       "      <th>MacRecReqsText</th>\n",
       "    </tr>\n",
       "  </thead>\n",
       "  <tbody>\n",
       "    <tr>\n",
       "      <th>0</th>\n",
       "      <td>10</td>\n",
       "      <td>10</td>\n",
       "      <td>Counter-Strike</td>\n",
       "      <td>Counter-Strike</td>\n",
       "      <td>Nov 1 2000</td>\n",
       "      <td>0</td>\n",
       "      <td>0</td>\n",
       "      <td>1</td>\n",
       "      <td>0</td>\n",
       "      <td>88</td>\n",
       "      <td>...</td>\n",
       "      <td></td>\n",
       "      <td></td>\n",
       "      <td>English French German Italian Spanish Simplifi...</td>\n",
       "      <td>None</td>\n",
       "      <td>Minimum: 500 mhz processor 96mb ram 16mb video...</td>\n",
       "      <td></td>\n",
       "      <td>Minimum: Linux Ubuntu 12.04 Dual-core from Int...</td>\n",
       "      <td></td>\n",
       "      <td>Minimum: OS X  Snow Leopard 10.6.3 1GB RAM 4GB...</td>\n",
       "      <td></td>\n",
       "    </tr>\n",
       "    <tr>\n",
       "      <th>1</th>\n",
       "      <td>20</td>\n",
       "      <td>20</td>\n",
       "      <td>Team Fortress Classic</td>\n",
       "      <td>Team Fortress Classic</td>\n",
       "      <td>Apr 1 1999</td>\n",
       "      <td>0</td>\n",
       "      <td>0</td>\n",
       "      <td>1</td>\n",
       "      <td>0</td>\n",
       "      <td>0</td>\n",
       "      <td>...</td>\n",
       "      <td></td>\n",
       "      <td></td>\n",
       "      <td>English French German Italian Spanish</td>\n",
       "      <td>None</td>\n",
       "      <td>Minimum: 500 mhz processor 96mb ram 16mb video...</td>\n",
       "      <td></td>\n",
       "      <td>Minimum: Linux Ubuntu 12.04 Dual-core from Int...</td>\n",
       "      <td></td>\n",
       "      <td>Minimum: OS X  Snow Leopard 10.6.3 1GB RAM 4GB...</td>\n",
       "      <td></td>\n",
       "    </tr>\n",
       "    <tr>\n",
       "      <th>2</th>\n",
       "      <td>30</td>\n",
       "      <td>30</td>\n",
       "      <td>Day of Defeat</td>\n",
       "      <td>Day of Defeat</td>\n",
       "      <td>May 1 2003</td>\n",
       "      <td>0</td>\n",
       "      <td>0</td>\n",
       "      <td>1</td>\n",
       "      <td>0</td>\n",
       "      <td>79</td>\n",
       "      <td>...</td>\n",
       "      <td></td>\n",
       "      <td></td>\n",
       "      <td>English French German Italian Spanish</td>\n",
       "      <td>http://www.dayofdefeat.com/</td>\n",
       "      <td>Minimum: 500 mhz processor 96mb ram 16mb video...</td>\n",
       "      <td></td>\n",
       "      <td>Minimum: Linux Ubuntu 12.04 Dual-core from Int...</td>\n",
       "      <td></td>\n",
       "      <td>Minimum: OS X  Snow Leopard 10.6.3 1GB RAM 4GB...</td>\n",
       "      <td></td>\n",
       "    </tr>\n",
       "    <tr>\n",
       "      <th>3</th>\n",
       "      <td>40</td>\n",
       "      <td>40</td>\n",
       "      <td>Deathmatch Classic</td>\n",
       "      <td>Deathmatch Classic</td>\n",
       "      <td>Jun 1 2001</td>\n",
       "      <td>0</td>\n",
       "      <td>0</td>\n",
       "      <td>1</td>\n",
       "      <td>0</td>\n",
       "      <td>0</td>\n",
       "      <td>...</td>\n",
       "      <td></td>\n",
       "      <td></td>\n",
       "      <td>English French German Italian Spanish</td>\n",
       "      <td>None</td>\n",
       "      <td>Minimum: 500 mhz processor 96mb ram 16mb video...</td>\n",
       "      <td></td>\n",
       "      <td>Minimum: Linux Ubuntu 12.04 Dual-core from Int...</td>\n",
       "      <td></td>\n",
       "      <td>Minimum: OS X  Snow Leopard 10.6.3 1GB RAM 4GB...</td>\n",
       "      <td></td>\n",
       "    </tr>\n",
       "    <tr>\n",
       "      <th>4</th>\n",
       "      <td>50</td>\n",
       "      <td>50</td>\n",
       "      <td>Half-Life: Opposing Force</td>\n",
       "      <td>Half-Life: Opposing Force</td>\n",
       "      <td>Nov 1 1999</td>\n",
       "      <td>0</td>\n",
       "      <td>0</td>\n",
       "      <td>1</td>\n",
       "      <td>0</td>\n",
       "      <td>0</td>\n",
       "      <td>...</td>\n",
       "      <td></td>\n",
       "      <td></td>\n",
       "      <td>English French German Korean</td>\n",
       "      <td>None</td>\n",
       "      <td>Minimum: 500 mhz processor 96mb ram 16mb video...</td>\n",
       "      <td></td>\n",
       "      <td>Minimum: Linux Ubuntu 12.04 Dual-core from Int...</td>\n",
       "      <td></td>\n",
       "      <td>Minimum: OS X  Snow Leopard 10.6.3 1GB RAM 4GB...</td>\n",
       "      <td></td>\n",
       "    </tr>\n",
       "  </tbody>\n",
       "</table>\n",
       "<p>5 rows × 78 columns</p>\n",
       "</div>"
      ],
      "text/plain": [
       "   QueryID  ResponseID                  QueryName               ResponseName  \\\n",
       "0       10          10             Counter-Strike             Counter-Strike   \n",
       "1       20          20      Team Fortress Classic      Team Fortress Classic   \n",
       "2       30          30              Day of Defeat              Day of Defeat   \n",
       "3       40          40         Deathmatch Classic         Deathmatch Classic   \n",
       "4       50          50  Half-Life: Opposing Force  Half-Life: Opposing Force   \n",
       "\n",
       "  ReleaseDate  RequiredAge  DemoCount  DeveloperCount  DLCCount  Metacritic  \\\n",
       "0  Nov 1 2000            0          0               1         0          88   \n",
       "1  Apr 1 1999            0          0               1         0           0   \n",
       "2  May 1 2003            0          0               1         0          79   \n",
       "3  Jun 1 2001            0          0               1         0           0   \n",
       "4  Nov 1 1999            0          0               1         0           0   \n",
       "\n",
       "   ...  LegalNotice  Reviews  \\\n",
       "0  ...                         \n",
       "1  ...                         \n",
       "2  ...                         \n",
       "3  ...                         \n",
       "4  ...                         \n",
       "\n",
       "                                  SupportedLanguages  \\\n",
       "0  English French German Italian Spanish Simplifi...   \n",
       "1              English French German Italian Spanish   \n",
       "2              English French German Italian Spanish   \n",
       "3              English French German Italian Spanish   \n",
       "4                       English French German Korean   \n",
       "\n",
       "                       Website  \\\n",
       "0                         None   \n",
       "1                         None   \n",
       "2  http://www.dayofdefeat.com/   \n",
       "3                         None   \n",
       "4                         None   \n",
       "\n",
       "                                       PCMinReqsText  PCRecReqsText  \\\n",
       "0  Minimum: 500 mhz processor 96mb ram 16mb video...                  \n",
       "1  Minimum: 500 mhz processor 96mb ram 16mb video...                  \n",
       "2  Minimum: 500 mhz processor 96mb ram 16mb video...                  \n",
       "3  Minimum: 500 mhz processor 96mb ram 16mb video...                  \n",
       "4  Minimum: 500 mhz processor 96mb ram 16mb video...                  \n",
       "\n",
       "                                    LinuxMinReqsText  LinuxRecReqsText  \\\n",
       "0  Minimum: Linux Ubuntu 12.04 Dual-core from Int...                     \n",
       "1  Minimum: Linux Ubuntu 12.04 Dual-core from Int...                     \n",
       "2  Minimum: Linux Ubuntu 12.04 Dual-core from Int...                     \n",
       "3  Minimum: Linux Ubuntu 12.04 Dual-core from Int...                     \n",
       "4  Minimum: Linux Ubuntu 12.04 Dual-core from Int...                     \n",
       "\n",
       "                                      MacMinReqsText  MacRecReqsText  \n",
       "0  Minimum: OS X  Snow Leopard 10.6.3 1GB RAM 4GB...                  \n",
       "1  Minimum: OS X  Snow Leopard 10.6.3 1GB RAM 4GB...                  \n",
       "2  Minimum: OS X  Snow Leopard 10.6.3 1GB RAM 4GB...                  \n",
       "3  Minimum: OS X  Snow Leopard 10.6.3 1GB RAM 4GB...                  \n",
       "4  Minimum: OS X  Snow Leopard 10.6.3 1GB RAM 4GB...                  \n",
       "\n",
       "[5 rows x 78 columns]"
      ]
     },
     "execution_count": 5,
     "metadata": {},
     "output_type": "execute_result"
    }
   ],
   "source": [
    "steam.head()"
   ]
  },
  {
   "cell_type": "code",
   "execution_count": 6,
   "metadata": {},
   "outputs": [
    {
     "name": "stdout",
     "output_type": "stream",
     "text": [
      "QueryID                                                          3170\n",
      "ResponseID                                                       3170\n",
      "QueryName                             King's Bounty: Armored Princess\n",
      "ResponseName                           Kings Bounty: Armored Princess\n",
      "ReleaseDate                                               Nov 19 2009\n",
      "                                          ...                        \n",
      "PCRecReqsText       Recommended:OS: Windows XP/Vista Processor: 3 ...\n",
      "LinuxMinReqsText                                                     \n",
      "LinuxRecReqsText                                                     \n",
      "MacMinReqsText      OS: Mac OSX 10.6 or higher                Proc...\n",
      "MacRecReqsText                                                       \n",
      "Name: 100, Length: 78, dtype: object\n"
     ]
    }
   ],
   "source": [
    "print(steam.iloc[100])"
   ]
  },
  {
   "cell_type": "code",
   "execution_count": 7,
   "metadata": {},
   "outputs": [
    {
     "data": {
      "text/plain": [
       "USD    10739\n",
       "        2618\n",
       "Name: PriceCurrency, dtype: int64"
      ]
     },
     "execution_count": 7,
     "metadata": {},
     "output_type": "execute_result"
    }
   ],
   "source": [
    "steam['PriceCurrency'].value_counts()"
   ]
  },
  {
   "cell_type": "code",
   "execution_count": 8,
   "metadata": {},
   "outputs": [
    {
     "data": {
      "text/plain": [
       "Train Simulator 2016                              9\n",
       "Jewel Quest Pack                                  7\n",
       "Jagged Alliance 2 Gold                            5\n",
       "SiN Episodes: Emergence                           5\n",
       "F.E.A.R.                                          5\n",
       "Mahjong Quest Collection                          5\n",
       "Cake Mania Collection                             5\n",
       "Tom Clancys Rainbow Six(r) Siege                  5\n",
       "Crazy Machines 1.5                                5\n",
       "BRINK                                             5\n",
       "RIP - Trilogy(tm)                                 5\n",
       "Westward Collection                               5\n",
       "Super Granny Collection                           5\n",
       "Tradewinds Classics                               5\n",
       "Crysis Warhead(r)                                 3\n",
       "Shank                                             3\n",
       "Portal 2                                          3\n",
       "The Sims(tm) 3                                    3\n",
       "Civilization IV: Beyond the Sword                 3\n",
       "Trine 2: Complete Story                           3\n",
       "Civilization IV(r): Warlords                      3\n",
       "Sid Meiers Civilization IV: Colonization          3\n",
       "Batman: Arkham Asylum Game of the Year Edition    3\n",
       "Tradewinds Caravans + Odyssey Pack                3\n",
       "Alpha Protocol(tm)                                3\n",
       "Tropico Reloaded                                  3\n",
       "Fallout: New Vegas                                3\n",
       "Stronghold HD                                     3\n",
       "IL-2 Sturmovik: 1946                              3\n",
       "Counter-Strike: Condition Zero                    3\n",
       "Name: ResponseName, dtype: int64"
      ]
     },
     "execution_count": 8,
     "metadata": {},
     "output_type": "execute_result"
    }
   ],
   "source": [
    "steam['ResponseName'].value_counts().head(30)"
   ]
  },
  {
   "cell_type": "code",
   "execution_count": 9,
   "metadata": {},
   "outputs": [
    {
     "data": {
      "text/plain": [
       "Aug 22 2016      241\n",
       "Aug 26 2016      152\n",
       "                  87\n",
       "Sep 9 2016        77\n",
       "Sep 7 2016        68\n",
       "                ... \n",
       "Mar 19 2012        1\n",
       "Oct 1 2012         1\n",
       "Sep 25 2008        1\n",
       "Early October      1\n",
       "Mar 27 2007        1\n",
       "Name: ReleaseDate, Length: 2117, dtype: int64"
      ]
     },
     "execution_count": 9,
     "metadata": {},
     "output_type": "execute_result"
    }
   ],
   "source": [
    "#steam['ExtUserAcctNotice'].value_counts()\n",
    "#steam['DRMNotice'].value_counts()\n",
    "#steam['Background'].value_counts()\n",
    "#steam['HeaderImage'].value_counts()\n",
    "#steam['Reviews'].value_counts()\n",
    "#steam['PCMinReqsText'].value_counts()\n",
    "steam['ReleaseDate'].value_counts()"
   ]
  },
  {
   "cell_type": "markdown",
   "metadata": {},
   "source": [
    "## Notes on Steam dataset\n",
    "\n",
    "Category is already encoded.\n",
    "\n",
    "It looks like all prices are in USD, though some are unlabeled I'm just going to assume that they are USD and the webscraper didn't retrieve them correctly.\n",
    "\n",
    "For now textual descriptions such as Background, AboutText, SupportedLanguages, and MinReqsText will all be removed as I do not yet know how to perform a bag-of-words or word-vector style feature decomposition on these. I will probably add them back in later when I've done more research on ohw to do this.\n",
    "\n",
    "Links like Background or HeaderImage will also be removed.\n",
    "\n",
    "Note that these removed columns probably do actually contain very valuable data to making an accurate prediction, it's just that I currently do not know how to incorporate them into regression and/or it would be infeasible to donwload the content of all of these links for 40,000 examples in a short amount of time. I might come back to that though??\n",
    "\n",
    "There appear to be duplicate games??? I'll have to think of a creative way to merge these."
   ]
  },
  {
   "cell_type": "code",
   "execution_count": 35,
   "metadata": {},
   "outputs": [],
   "source": [
    "def steam_preprocess(df):\n",
    "    ret = df.drop(labels=[\n",
    "        'QueryID',\n",
    "        'ResponseID',\n",
    "        'QueryName',\n",
    "        'ResponseName', # Could be useful for 'catchiness' or 'length', but that's a whole can of worms\n",
    "        'SupportEmail',\n",
    "        'SupportURL',\n",
    "        'Background', # boolean\n",
    "        'ShortDescrip',\n",
    "        'DetailedDescrip',\n",
    "        'AboutText',\n",
    "        'PriceCurrency',\n",
    "        'DRMNotice', # useful to convert to boolean value\n",
    "        'ExtUserAcctNotice', # useful to convert to boolean value\n",
    "        'HeaderImage', # boolean\n",
    "        'LegalNotice', # boolean\n",
    "        'Reviews', # boolean\n",
    "        'SupportedLanguages', # Could separate up into a series of encoded variables, remove for now\n",
    "        'Website', # boolean\n",
    "        'PCMinReqsText', # All of these could have sentiment analysis done on them\n",
    "        'PCRecReqsText',\n",
    "        'LinuxMinReqsText',\n",
    "        'LinuxRecReqsText',\n",
    "        'MacMinReqsText',\n",
    "        'MacRecReqsText',\n",
    "        'SteamSpyPlayersEstimate', # The next three are dead giveaways and would give the model too much information.\n",
    "        'SteamSpyPlayersVariance',\n",
    "        'SteamSpyOwnersVariance', # Maybe could be incorporated into evaluation in some way\n",
    "    ], axis=1)\n",
    "    \n",
    "    ret['ReleaseDate'] = pd.to_datetime(ret['ReleaseDate'], errors='coerce')\n",
    "    \n",
    "    # I would rather remove games that have no release date rather than impute them. Knowing steam, they probably aren't released yet, and imputation makes no sense here.\n",
    "    # I might replace it with iterative imputation, but as it stands I'm losing like 400 games out of the 40,000 samples. I'd rather just not train on them.\n",
    "    ret.dropna(subset=['ReleaseDate'], inplace=True)\n",
    "    \n",
    "    ret['ReleaseYear'] = pd.DatetimeIndex(ret['ReleaseDate']).year\n",
    "    ret['ReleaseMonth'] = pd.DatetimeIndex(ret['ReleaseDate']).month\n",
    "    ret['ReleaseDay'] = pd.DatetimeIndex(ret['ReleaseDate']).day\n",
    "    ret = ret.drop(['ReleaseDate'], axis=1)\n",
    "    return ret\n",
    "\n",
    "steam_cleaned = steam_preprocess(steam)\n",
    "#steam_cleaned.dtypes # MINDBLOWINGLY, SHOCKINGLY CLEAN"
   ]
  },
  {
   "cell_type": "code",
   "execution_count": 66,
   "metadata": {},
   "outputs": [
    {
     "data": {
      "text/plain": [
       "(12872, 53)"
      ]
     },
     "execution_count": 66,
     "metadata": {},
     "output_type": "execute_result"
    }
   ],
   "source": [
    "steam_cleaned.shape"
   ]
  },
  {
   "cell_type": "code",
   "execution_count": 11,
   "metadata": {},
   "outputs": [],
   "source": [
    "X = steam_cleaned.drop(['SteamSpyOwners'], axis=1)\n",
    "y = steam_cleaned['SteamSpyOwners']\n",
    "\n",
    "X_train, X_test, y_train, y_test = train_test_split(X, y, test_size=0.2, random_state=666)"
   ]
  },
  {
   "cell_type": "code",
   "execution_count": 69,
   "metadata": {},
   "outputs": [
    {
     "name": "stdout",
     "output_type": "stream",
     "text": [
      "Time elapsed:  0.1640174388885498\n"
     ]
    },
    {
     "data": {
      "text/plain": [
       "array([ 1.39098810e+12,  2.93885866e+10,  8.43524008e+10,  5.45791656e+12,\n",
       "        1.32013793e+12,  2.19745800e+11,  5.99540643e+10, -5.99758202e+11,\n",
       "        4.89763859e+10, -1.52912601e+11,  2.02310136e+12,  1.72715351e+12,\n",
       "        1.04488489e+11,  9.96744925e+10, -1.84808846e+09,  4.07300659e+10,\n",
       "       -1.17322555e+10,  8.54628500e+08, -1.58096244e+10,  4.59416817e+09,\n",
       "        5.96478292e+10,  1.22801297e+11,  8.01905673e+10,  1.19316514e+11,\n",
       "        5.05680618e+10,  2.86896612e+10,  2.30924111e+10,  2.10305014e+10,\n",
       "        6.20797487e+10,  1.91830786e+10,  3.69097927e+08, -1.35612148e+10,\n",
       "        2.07905006e+10,  3.54039558e+09,  3.79946007e+10, -9.88167816e+09,\n",
       "        1.74466802e+11,  6.56921233e+10, -1.60553329e+11, -6.74190875e+09,\n",
       "        5.44405799e+10,  5.10184839e+10, -5.69369121e+10,  9.87110282e+10,\n",
       "       -1.53964110e+09,  5.98451787e+10,  4.28137740e+10,  1.15398286e+12,\n",
       "       -3.23726590e+11,  4.40867407e+11, -1.48969702e+11, -2.22542199e+10])"
      ]
     },
     "execution_count": 69,
     "metadata": {},
     "output_type": "execute_result"
    }
   ],
   "source": [
    "from sklearn.linear_model import SGDRegressor, LinearRegression\n",
    "\n",
    "# No hyperparameter tuning\n",
    "\n",
    "start = time.time()\n",
    "reg = SGDRegressor(alpha=0, max_iter=10000).fit(X_train, y_train)\n",
    "print(\"Time elapsed: \", time.time() - start)\n",
    "\n",
    "reg.coef_"
   ]
  },
  {
   "cell_type": "code",
   "execution_count": 64,
   "metadata": {},
   "outputs": [
    {
     "data": {
      "text/plain": [
       "array([ 4.20256403e+03, -7.63442301e+04,  2.90665190e+04, -2.27728811e+02,\n",
       "        2.50194944e+03,  4.26126994e+04, -1.70327480e+04,  4.38456307e+01,\n",
       "        8.18796316e+04, -9.38328409e+02,  5.65521655e+02, -1.06361745e+03,\n",
       "       -3.09671805e+04,  1.59895424e+05, -3.19749632e+05,  1.77358819e+04,\n",
       "       -1.92346838e+03, -6.58036770e+04,  1.62201595e+05,  6.08913778e+04,\n",
       "       -8.21429279e+04,  4.32664565e+04, -5.57853252e+04, -7.83650053e+04,\n",
       "        1.68617751e+04, -4.06928884e+04, -2.21971576e+05, -4.81333461e+04,\n",
       "        1.57414436e+05,  7.10343929e+04,  4.04852633e+05,  2.48698854e+06,\n",
       "        4.37185789e+04,  7.36768985e+04, -1.43228875e+05, -5.24268691e+04,\n",
       "        1.00636289e+05,  1.82773742e+03,  6.37832475e+03, -5.42835224e+02,\n",
       "        5.04873491e+03,  3.04002883e+04,  2.47132874e+04,  3.76975868e+05,\n",
       "       -6.42186124e+03, -3.44353182e+04, -2.68425127e+05,  2.32245804e+02,\n",
       "       -1.41604594e+03, -7.20753926e+04, -2.64897022e+03, -2.35702064e+03])"
      ]
     },
     "execution_count": 64,
     "metadata": {},
     "output_type": "execute_result"
    }
   ],
   "source": [
    "reg = LinearRegression().fit(X_train, y_train)\n",
    "\n",
    "reg.coef_"
   ]
  },
  {
   "cell_type": "code",
   "execution_count": 56,
   "metadata": {},
   "outputs": [],
   "source": [
    "from sklearn.utils.estimator_checks import check_estimator\n",
    "from sklearn.base import BaseEstimator, RegressorMixin\n",
    "# Custom linear regression\n",
    "\n",
    "class GhettoLinearRegression(BaseEstimator, RegressorMixin):\n",
    "    coef_ = None\n",
    "    \n",
    "    def _pad_column(self, X): # Adds column of 1's at the beginning for the intercept\n",
    "        X = X.to_numpy(dtype='float')\n",
    "        return np.insert(X, 0, 1, axis=1)\n",
    "        #return np.append(X, 1, axis=1)\n",
    "    \n",
    "    def fit(self, X, y):\n",
    "        X = self._pad_column(X)\n",
    "        self.coef_ = np.linalg.inv(X.T.dot(X)).dot(X.T.dot(y))\n",
    "        return self\n",
    "    \n",
    "    def predict(self, X):\n",
    "        X = self._pad_column(X)\n",
    "        return X.dot(self._coef)\n",
    "    \n",
    "    def score(self, X, y):\n",
    "        pred = self.predict(X)\n",
    "        return (pred - y)**2"
   ]
  },
  {
   "cell_type": "code",
   "execution_count": 63,
   "metadata": {},
   "outputs": [
    {
     "name": "stdout",
     "output_type": "stream",
     "text": [
      "Time elapsed:  0.08312153816223145\n"
     ]
    },
    {
     "data": {
      "text/plain": [
       "array([ 1.45427091e+08,  4.20256403e+03, -7.63442301e+04,  2.90665190e+04,\n",
       "       -2.27728811e+02,  2.50194944e+03,  4.26126994e+04, -1.70327480e+04,\n",
       "        4.38456307e+01,  8.18796316e+04, -9.38328409e+02,  5.65521655e+02,\n",
       "       -1.06361745e+03, -3.09671805e+04,  1.59895424e+05, -3.19749632e+05,\n",
       "        1.77358819e+04, -1.92346839e+03, -6.58036767e+04,  1.62201595e+05,\n",
       "        6.08913778e+04, -8.21429279e+04,  4.32664565e+04, -5.57853252e+04,\n",
       "       -7.83650053e+04,  1.68617750e+04, -4.06928884e+04, -2.21971576e+05,\n",
       "       -4.81333461e+04,  1.57414436e+05,  7.10343929e+04,  4.04852633e+05,\n",
       "        2.48698854e+06,  4.37185789e+04,  7.36768985e+04, -1.43228875e+05,\n",
       "       -5.24268691e+04,  1.00636289e+05,  1.82773742e+03,  6.37832475e+03,\n",
       "       -5.42835225e+02,  5.04873491e+03,  3.04002883e+04,  2.47132874e+04,\n",
       "        3.76975868e+05, -6.42186124e+03, -3.44353182e+04, -2.68425127e+05,\n",
       "        2.32245804e+02, -1.41604594e+03, -7.20753926e+04, -2.64897022e+03,\n",
       "       -2.35702064e+03])"
      ]
     },
     "execution_count": 63,
     "metadata": {},
     "output_type": "execute_result"
    }
   ],
   "source": [
    "start = time.time()\n",
    "reg = GhettoLinearRegression().fit(X_train, y_train)\n",
    "print(\"Time elapsed: \", time.time() - start)\n",
    "\n",
    "reg.coef_"
   ]
  },
  {
   "cell_type": "code",
   "execution_count": null,
   "metadata": {},
   "outputs": [],
   "source": []
  }
 ],
 "metadata": {
  "kernelspec": {
   "display_name": "Python 3",
   "language": "python",
   "name": "python3"
  },
  "language_info": {
   "codemirror_mode": {
    "name": "ipython",
    "version": 3
   },
   "file_extension": ".py",
   "mimetype": "text/x-python",
   "name": "python",
   "nbconvert_exporter": "python",
   "pygments_lexer": "ipython3",
   "version": "3.7.4"
  }
 },
 "nbformat": 4,
 "nbformat_minor": 4
}
