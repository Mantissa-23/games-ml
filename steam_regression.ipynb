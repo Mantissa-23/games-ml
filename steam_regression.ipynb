{
 "cells": [
  {
   "cell_type": "code",
   "execution_count": 1,
   "metadata": {},
   "outputs": [],
   "source": [
    "import numpy as np\n",
    "import matplotlib.pyplot as plt\n",
    "import pandas as pd\n",
    "import time\n",
    "from sklearn.model_selection import train_test_split, cross_val_score, GridSearchCV, KFold\n",
    "from sklearn.linear_model import SGDRegressor, LinearRegression\n",
    "from sklearn.linear_model import LogisticRegression\n",
    "from sklearn.utils.estimator_checks import check_estimator\n",
    "from sklearn.base import BaseEstimator, RegressorMixin\n",
    "from sklearn.preprocessing import StandardScaler, MinMaxScaler\n",
    "from sklearn.compose import ColumnTransformer\n",
    "from sklearn.neighbors import KNeighborsRegressor\n",
    "\n",
    "from util import as_numpy"
   ]
  },
  {
   "cell_type": "markdown",
   "metadata": {},
   "source": [
    "# Steam Regression Analysis\n",
    "\n",
    "## Steam Games Dataset\n",
    "\n",
    "The Steam dataset originates from https://data.world/craigkelly/steam-game-data and was created by Craig Kelly. The dataset includes ownership data on around 12,000 videogames on the Steam digital distribution platform, and features such as genre, full text descriptions (written by the publisher/developer of the game), descriptive tags, supported languages, release dates, and reviewer scores. I'm interested in this dataset because I intend to publish a game within the next few years and I'm curious as to whether or not certain features are correlated with game popularity.\n",
    "\n",
    "Model performance will be compared using RMSE."
   ]
  },
  {
   "cell_type": "code",
   "execution_count": 2,
   "metadata": {},
   "outputs": [
    {
     "data": {
      "text/html": [
       "<div>\n",
       "<style scoped>\n",
       "    .dataframe tbody tr th:only-of-type {\n",
       "        vertical-align: middle;\n",
       "    }\n",
       "\n",
       "    .dataframe tbody tr th {\n",
       "        vertical-align: top;\n",
       "    }\n",
       "\n",
       "    .dataframe thead th {\n",
       "        text-align: right;\n",
       "    }\n",
       "</style>\n",
       "<table border=\"1\" class=\"dataframe\">\n",
       "  <thead>\n",
       "    <tr style=\"text-align: right;\">\n",
       "      <th></th>\n",
       "      <th>QueryID</th>\n",
       "      <th>ResponseID</th>\n",
       "      <th>QueryName</th>\n",
       "      <th>ResponseName</th>\n",
       "      <th>ReleaseDate</th>\n",
       "      <th>RequiredAge</th>\n",
       "      <th>DemoCount</th>\n",
       "      <th>DeveloperCount</th>\n",
       "      <th>DLCCount</th>\n",
       "      <th>Metacritic</th>\n",
       "      <th>...</th>\n",
       "      <th>LegalNotice</th>\n",
       "      <th>Reviews</th>\n",
       "      <th>SupportedLanguages</th>\n",
       "      <th>Website</th>\n",
       "      <th>PCMinReqsText</th>\n",
       "      <th>PCRecReqsText</th>\n",
       "      <th>LinuxMinReqsText</th>\n",
       "      <th>LinuxRecReqsText</th>\n",
       "      <th>MacMinReqsText</th>\n",
       "      <th>MacRecReqsText</th>\n",
       "    </tr>\n",
       "  </thead>\n",
       "  <tbody>\n",
       "    <tr>\n",
       "      <th>0</th>\n",
       "      <td>10</td>\n",
       "      <td>10</td>\n",
       "      <td>Counter-Strike</td>\n",
       "      <td>Counter-Strike</td>\n",
       "      <td>Nov 1 2000</td>\n",
       "      <td>0</td>\n",
       "      <td>0</td>\n",
       "      <td>1</td>\n",
       "      <td>0</td>\n",
       "      <td>88</td>\n",
       "      <td>...</td>\n",
       "      <td></td>\n",
       "      <td></td>\n",
       "      <td>English French German Italian Spanish Simplifi...</td>\n",
       "      <td>None</td>\n",
       "      <td>Minimum: 500 mhz processor 96mb ram 16mb video...</td>\n",
       "      <td></td>\n",
       "      <td>Minimum: Linux Ubuntu 12.04 Dual-core from Int...</td>\n",
       "      <td></td>\n",
       "      <td>Minimum: OS X  Snow Leopard 10.6.3 1GB RAM 4GB...</td>\n",
       "      <td></td>\n",
       "    </tr>\n",
       "    <tr>\n",
       "      <th>1</th>\n",
       "      <td>20</td>\n",
       "      <td>20</td>\n",
       "      <td>Team Fortress Classic</td>\n",
       "      <td>Team Fortress Classic</td>\n",
       "      <td>Apr 1 1999</td>\n",
       "      <td>0</td>\n",
       "      <td>0</td>\n",
       "      <td>1</td>\n",
       "      <td>0</td>\n",
       "      <td>0</td>\n",
       "      <td>...</td>\n",
       "      <td></td>\n",
       "      <td></td>\n",
       "      <td>English French German Italian Spanish</td>\n",
       "      <td>None</td>\n",
       "      <td>Minimum: 500 mhz processor 96mb ram 16mb video...</td>\n",
       "      <td></td>\n",
       "      <td>Minimum: Linux Ubuntu 12.04 Dual-core from Int...</td>\n",
       "      <td></td>\n",
       "      <td>Minimum: OS X  Snow Leopard 10.6.3 1GB RAM 4GB...</td>\n",
       "      <td></td>\n",
       "    </tr>\n",
       "    <tr>\n",
       "      <th>2</th>\n",
       "      <td>30</td>\n",
       "      <td>30</td>\n",
       "      <td>Day of Defeat</td>\n",
       "      <td>Day of Defeat</td>\n",
       "      <td>May 1 2003</td>\n",
       "      <td>0</td>\n",
       "      <td>0</td>\n",
       "      <td>1</td>\n",
       "      <td>0</td>\n",
       "      <td>79</td>\n",
       "      <td>...</td>\n",
       "      <td></td>\n",
       "      <td></td>\n",
       "      <td>English French German Italian Spanish</td>\n",
       "      <td>http://www.dayofdefeat.com/</td>\n",
       "      <td>Minimum: 500 mhz processor 96mb ram 16mb video...</td>\n",
       "      <td></td>\n",
       "      <td>Minimum: Linux Ubuntu 12.04 Dual-core from Int...</td>\n",
       "      <td></td>\n",
       "      <td>Minimum: OS X  Snow Leopard 10.6.3 1GB RAM 4GB...</td>\n",
       "      <td></td>\n",
       "    </tr>\n",
       "    <tr>\n",
       "      <th>3</th>\n",
       "      <td>40</td>\n",
       "      <td>40</td>\n",
       "      <td>Deathmatch Classic</td>\n",
       "      <td>Deathmatch Classic</td>\n",
       "      <td>Jun 1 2001</td>\n",
       "      <td>0</td>\n",
       "      <td>0</td>\n",
       "      <td>1</td>\n",
       "      <td>0</td>\n",
       "      <td>0</td>\n",
       "      <td>...</td>\n",
       "      <td></td>\n",
       "      <td></td>\n",
       "      <td>English French German Italian Spanish</td>\n",
       "      <td>None</td>\n",
       "      <td>Minimum: 500 mhz processor 96mb ram 16mb video...</td>\n",
       "      <td></td>\n",
       "      <td>Minimum: Linux Ubuntu 12.04 Dual-core from Int...</td>\n",
       "      <td></td>\n",
       "      <td>Minimum: OS X  Snow Leopard 10.6.3 1GB RAM 4GB...</td>\n",
       "      <td></td>\n",
       "    </tr>\n",
       "    <tr>\n",
       "      <th>4</th>\n",
       "      <td>50</td>\n",
       "      <td>50</td>\n",
       "      <td>Half-Life: Opposing Force</td>\n",
       "      <td>Half-Life: Opposing Force</td>\n",
       "      <td>Nov 1 1999</td>\n",
       "      <td>0</td>\n",
       "      <td>0</td>\n",
       "      <td>1</td>\n",
       "      <td>0</td>\n",
       "      <td>0</td>\n",
       "      <td>...</td>\n",
       "      <td></td>\n",
       "      <td></td>\n",
       "      <td>English French German Korean</td>\n",
       "      <td>None</td>\n",
       "      <td>Minimum: 500 mhz processor 96mb ram 16mb video...</td>\n",
       "      <td></td>\n",
       "      <td>Minimum: Linux Ubuntu 12.04 Dual-core from Int...</td>\n",
       "      <td></td>\n",
       "      <td>Minimum: OS X  Snow Leopard 10.6.3 1GB RAM 4GB...</td>\n",
       "      <td></td>\n",
       "    </tr>\n",
       "  </tbody>\n",
       "</table>\n",
       "<p>5 rows × 78 columns</p>\n",
       "</div>"
      ],
      "text/plain": [
       "   QueryID  ResponseID                  QueryName               ResponseName  \\\n",
       "0       10          10             Counter-Strike             Counter-Strike   \n",
       "1       20          20      Team Fortress Classic      Team Fortress Classic   \n",
       "2       30          30              Day of Defeat              Day of Defeat   \n",
       "3       40          40         Deathmatch Classic         Deathmatch Classic   \n",
       "4       50          50  Half-Life: Opposing Force  Half-Life: Opposing Force   \n",
       "\n",
       "  ReleaseDate  RequiredAge  DemoCount  DeveloperCount  DLCCount  Metacritic  \\\n",
       "0  Nov 1 2000            0          0               1         0          88   \n",
       "1  Apr 1 1999            0          0               1         0           0   \n",
       "2  May 1 2003            0          0               1         0          79   \n",
       "3  Jun 1 2001            0          0               1         0           0   \n",
       "4  Nov 1 1999            0          0               1         0           0   \n",
       "\n",
       "   ...  LegalNotice  Reviews  \\\n",
       "0  ...                         \n",
       "1  ...                         \n",
       "2  ...                         \n",
       "3  ...                         \n",
       "4  ...                         \n",
       "\n",
       "                                  SupportedLanguages  \\\n",
       "0  English French German Italian Spanish Simplifi...   \n",
       "1              English French German Italian Spanish   \n",
       "2              English French German Italian Spanish   \n",
       "3              English French German Italian Spanish   \n",
       "4                       English French German Korean   \n",
       "\n",
       "                       Website  \\\n",
       "0                         None   \n",
       "1                         None   \n",
       "2  http://www.dayofdefeat.com/   \n",
       "3                         None   \n",
       "4                         None   \n",
       "\n",
       "                                       PCMinReqsText  PCRecReqsText  \\\n",
       "0  Minimum: 500 mhz processor 96mb ram 16mb video...                  \n",
       "1  Minimum: 500 mhz processor 96mb ram 16mb video...                  \n",
       "2  Minimum: 500 mhz processor 96mb ram 16mb video...                  \n",
       "3  Minimum: 500 mhz processor 96mb ram 16mb video...                  \n",
       "4  Minimum: 500 mhz processor 96mb ram 16mb video...                  \n",
       "\n",
       "                                    LinuxMinReqsText  LinuxRecReqsText  \\\n",
       "0  Minimum: Linux Ubuntu 12.04 Dual-core from Int...                     \n",
       "1  Minimum: Linux Ubuntu 12.04 Dual-core from Int...                     \n",
       "2  Minimum: Linux Ubuntu 12.04 Dual-core from Int...                     \n",
       "3  Minimum: Linux Ubuntu 12.04 Dual-core from Int...                     \n",
       "4  Minimum: Linux Ubuntu 12.04 Dual-core from Int...                     \n",
       "\n",
       "                                      MacMinReqsText  MacRecReqsText  \n",
       "0  Minimum: OS X  Snow Leopard 10.6.3 1GB RAM 4GB...                  \n",
       "1  Minimum: OS X  Snow Leopard 10.6.3 1GB RAM 4GB...                  \n",
       "2  Minimum: OS X  Snow Leopard 10.6.3 1GB RAM 4GB...                  \n",
       "3  Minimum: OS X  Snow Leopard 10.6.3 1GB RAM 4GB...                  \n",
       "4  Minimum: OS X  Snow Leopard 10.6.3 1GB RAM 4GB...                  \n",
       "\n",
       "[5 rows x 78 columns]"
      ]
     },
     "execution_count": 2,
     "metadata": {},
     "output_type": "execute_result"
    }
   ],
   "source": [
    "steam = pd.read_csv(\"data/games-features.csv\")\n",
    "steam.head()"
   ]
  },
  {
   "cell_type": "code",
   "execution_count": 4,
   "metadata": {
    "collapsed": true,
    "jupyter": {
     "outputs_hidden": true
    }
   },
   "outputs": [
    {
     "name": "stdout",
     "output_type": "stream",
     "text": [
      "Index(['QueryID', 'ResponseID', 'QueryName', 'ResponseName', 'ReleaseDate',\n",
      "       'RequiredAge', 'DemoCount', 'DeveloperCount', 'DLCCount', 'Metacritic',\n",
      "       'MovieCount', 'PackageCount', 'RecommendationCount', 'PublisherCount',\n",
      "       'ScreenshotCount', 'SteamSpyOwners', 'SteamSpyOwnersVariance',\n",
      "       'SteamSpyPlayersEstimate', 'SteamSpyPlayersVariance',\n",
      "       'AchievementCount', 'AchievementHighlightedCount', 'ControllerSupport',\n",
      "       'IsFree', 'FreeVerAvail', 'PurchaseAvail', 'SubscriptionAvail',\n",
      "       'PlatformWindows', 'PlatformLinux', 'PlatformMac', 'PCReqsHaveMin',\n",
      "       'PCReqsHaveRec', 'LinuxReqsHaveMin', 'LinuxReqsHaveRec',\n",
      "       'MacReqsHaveMin', 'MacReqsHaveRec', 'CategorySinglePlayer',\n",
      "       'CategoryMultiplayer', 'CategoryCoop', 'CategoryMMO',\n",
      "       'CategoryInAppPurchase', 'CategoryIncludeSrcSDK',\n",
      "       'CategoryIncludeLevelEditor', 'CategoryVRSupport', 'GenreIsNonGame',\n",
      "       'GenreIsIndie', 'GenreIsAction', 'GenreIsAdventure', 'GenreIsCasual',\n",
      "       'GenreIsStrategy', 'GenreIsRPG', 'GenreIsSimulation',\n",
      "       'GenreIsEarlyAccess', 'GenreIsFreeToPlay', 'GenreIsSports',\n",
      "       'GenreIsRacing', 'GenreIsMassivelyMultiplayer', 'PriceCurrency',\n",
      "       'PriceInitial', 'PriceFinal', 'SupportEmail', 'SupportURL', 'AboutText',\n",
      "       'Background', 'ShortDescrip', 'DetailedDescrip', 'DRMNotice',\n",
      "       'ExtUserAcctNotice', 'HeaderImage', 'LegalNotice', 'Reviews',\n",
      "       'SupportedLanguages', 'Website', 'PCMinReqsText', 'PCRecReqsText',\n",
      "       'LinuxMinReqsText', 'LinuxRecReqsText', 'MacMinReqsText',\n",
      "       'MacRecReqsText'],\n",
      "      dtype='object')\n"
     ]
    }
   ],
   "source": [
    "steam.columns"
   ]
  },
  {
   "cell_type": "code",
   "execution_count": 70,
   "metadata": {},
   "outputs": [
    {
     "data": {
      "text/plain": [
       "(13357, 78)"
      ]
     },
     "execution_count": 70,
     "metadata": {},
     "output_type": "execute_result"
    }
   ],
   "source": [
    "steam.shape"
   ]
  },
  {
   "cell_type": "code",
   "execution_count": 7,
   "metadata": {
    "collapsed": true,
    "jupyter": {
     "outputs_hidden": true
    }
   },
   "outputs": [
    {
     "data": {
      "text/plain": [
       "USD    10739\n",
       "        2618\n",
       "Name: PriceCurrency, dtype: int64"
      ]
     },
     "execution_count": 7,
     "metadata": {},
     "output_type": "execute_result"
    }
   ],
   "source": [
    "steam['PriceCurrency'].value_counts()"
   ]
  },
  {
   "cell_type": "code",
   "execution_count": 8,
   "metadata": {
    "collapsed": true,
    "jupyter": {
     "outputs_hidden": true
    }
   },
   "outputs": [
    {
     "data": {
      "text/plain": [
       "Train Simulator 2016                              9\n",
       "Jewel Quest Pack                                  7\n",
       "Jagged Alliance 2 Gold                            5\n",
       "SiN Episodes: Emergence                           5\n",
       "F.E.A.R.                                          5\n",
       "Mahjong Quest Collection                          5\n",
       "Cake Mania Collection                             5\n",
       "Tom Clancys Rainbow Six(r) Siege                  5\n",
       "Crazy Machines 1.5                                5\n",
       "BRINK                                             5\n",
       "RIP - Trilogy(tm)                                 5\n",
       "Westward Collection                               5\n",
       "Super Granny Collection                           5\n",
       "Tradewinds Classics                               5\n",
       "Crysis Warhead(r)                                 3\n",
       "Shank                                             3\n",
       "Portal 2                                          3\n",
       "The Sims(tm) 3                                    3\n",
       "Civilization IV: Beyond the Sword                 3\n",
       "Trine 2: Complete Story                           3\n",
       "Civilization IV(r): Warlords                      3\n",
       "Sid Meiers Civilization IV: Colonization          3\n",
       "Batman: Arkham Asylum Game of the Year Edition    3\n",
       "Tradewinds Caravans + Odyssey Pack                3\n",
       "Alpha Protocol(tm)                                3\n",
       "Tropico Reloaded                                  3\n",
       "Fallout: New Vegas                                3\n",
       "Stronghold HD                                     3\n",
       "IL-2 Sturmovik: 1946                              3\n",
       "Counter-Strike: Condition Zero                    3\n",
       "Name: ResponseName, dtype: int64"
      ]
     },
     "execution_count": 8,
     "metadata": {},
     "output_type": "execute_result"
    }
   ],
   "source": [
    "steam['ResponseName'].value_counts().head(30)"
   ]
  },
  {
   "cell_type": "code",
   "execution_count": 9,
   "metadata": {},
   "outputs": [
    {
     "data": {
      "text/plain": [
       "Aug 22 2016      241\n",
       "Aug 26 2016      152\n",
       "                  87\n",
       "Sep 9 2016        77\n",
       "Sep 7 2016        68\n",
       "                ... \n",
       "Mar 19 2012        1\n",
       "Oct 1 2012         1\n",
       "Sep 25 2008        1\n",
       "Early October      1\n",
       "Mar 27 2007        1\n",
       "Name: ReleaseDate, Length: 2117, dtype: int64"
      ]
     },
     "execution_count": 9,
     "metadata": {},
     "output_type": "execute_result"
    }
   ],
   "source": [
    "#steam['ExtUserAcctNotice'].value_counts()\n",
    "#steam['DRMNotice'].value_counts()\n",
    "#steam['Background'].value_counts()\n",
    "#steam['HeaderImage'].value_counts()\n",
    "#steam['Reviews'].value_counts()\n",
    "#steam['PCMinReqsText'].value_counts()\n",
    "steam['ReleaseDate'].value_counts()"
   ]
  },
  {
   "cell_type": "markdown",
   "metadata": {},
   "source": [
    "### Notes on Steam dataset\n",
    "\n",
    "Category is already encoded.\n",
    "\n",
    "It looks like all prices are in USD, though some are unlabeled I'm just going to assume that they are USD and the webscraper didn't retrieve them correctly.\n",
    "\n",
    "For now textual descriptions such as Background, AboutText, SupportedLanguages, and MinReqsText will all be removed as I do not yet know how to perform a bag-of-words or word-vector style feature decomposition on these. I will probably add them back in later when I've done more research on ohw to do this.\n",
    "\n",
    "Links like Background or HeaderImage will also be removed.\n",
    "\n",
    "Note that these removed columns probably do actually contain very valuable data to making an accurate prediction, it's just that I currently do not know how to incorporate them into regression and/or it would be infeasible to donwload the content of all of these links for 40,000 examples in a short amount of time. I might come back to that though??\n",
    "\n",
    "There appear to be duplicate games??? I'll have to think of a creative way to merge these."
   ]
  },
  {
   "cell_type": "code",
   "execution_count": 3,
   "metadata": {},
   "outputs": [
    {
     "data": {
      "text/html": [
       "<div>\n",
       "<style scoped>\n",
       "    .dataframe tbody tr th:only-of-type {\n",
       "        vertical-align: middle;\n",
       "    }\n",
       "\n",
       "    .dataframe tbody tr th {\n",
       "        vertical-align: top;\n",
       "    }\n",
       "\n",
       "    .dataframe thead th {\n",
       "        text-align: right;\n",
       "    }\n",
       "</style>\n",
       "<table border=\"1\" class=\"dataframe\">\n",
       "  <thead>\n",
       "    <tr style=\"text-align: right;\">\n",
       "      <th></th>\n",
       "      <th>RequiredAge</th>\n",
       "      <th>DemoCount</th>\n",
       "      <th>DeveloperCount</th>\n",
       "      <th>DLCCount</th>\n",
       "      <th>Metacritic</th>\n",
       "      <th>MovieCount</th>\n",
       "      <th>PackageCount</th>\n",
       "      <th>RecommendationCount</th>\n",
       "      <th>PublisherCount</th>\n",
       "      <th>ScreenshotCount</th>\n",
       "      <th>...</th>\n",
       "      <th>GenreIsEarlyAccess</th>\n",
       "      <th>GenreIsFreeToPlay</th>\n",
       "      <th>GenreIsSports</th>\n",
       "      <th>GenreIsRacing</th>\n",
       "      <th>GenreIsMassivelyMultiplayer</th>\n",
       "      <th>PriceInitial</th>\n",
       "      <th>PriceFinal</th>\n",
       "      <th>ReleaseYear</th>\n",
       "      <th>ReleaseMonth</th>\n",
       "      <th>ReleaseDay</th>\n",
       "    </tr>\n",
       "  </thead>\n",
       "  <tbody>\n",
       "    <tr>\n",
       "      <th>0</th>\n",
       "      <td>0</td>\n",
       "      <td>0</td>\n",
       "      <td>1</td>\n",
       "      <td>0</td>\n",
       "      <td>88</td>\n",
       "      <td>0</td>\n",
       "      <td>1</td>\n",
       "      <td>68991</td>\n",
       "      <td>1</td>\n",
       "      <td>13</td>\n",
       "      <td>...</td>\n",
       "      <td>False</td>\n",
       "      <td>False</td>\n",
       "      <td>False</td>\n",
       "      <td>False</td>\n",
       "      <td>False</td>\n",
       "      <td>9.99</td>\n",
       "      <td>9.99</td>\n",
       "      <td>2000</td>\n",
       "      <td>11</td>\n",
       "      <td>1</td>\n",
       "    </tr>\n",
       "    <tr>\n",
       "      <th>1</th>\n",
       "      <td>0</td>\n",
       "      <td>0</td>\n",
       "      <td>1</td>\n",
       "      <td>0</td>\n",
       "      <td>0</td>\n",
       "      <td>0</td>\n",
       "      <td>1</td>\n",
       "      <td>2439</td>\n",
       "      <td>1</td>\n",
       "      <td>5</td>\n",
       "      <td>...</td>\n",
       "      <td>False</td>\n",
       "      <td>False</td>\n",
       "      <td>False</td>\n",
       "      <td>False</td>\n",
       "      <td>False</td>\n",
       "      <td>4.99</td>\n",
       "      <td>4.99</td>\n",
       "      <td>1999</td>\n",
       "      <td>4</td>\n",
       "      <td>1</td>\n",
       "    </tr>\n",
       "    <tr>\n",
       "      <th>2</th>\n",
       "      <td>0</td>\n",
       "      <td>0</td>\n",
       "      <td>1</td>\n",
       "      <td>0</td>\n",
       "      <td>79</td>\n",
       "      <td>0</td>\n",
       "      <td>1</td>\n",
       "      <td>2319</td>\n",
       "      <td>1</td>\n",
       "      <td>5</td>\n",
       "      <td>...</td>\n",
       "      <td>False</td>\n",
       "      <td>False</td>\n",
       "      <td>False</td>\n",
       "      <td>False</td>\n",
       "      <td>False</td>\n",
       "      <td>4.99</td>\n",
       "      <td>4.99</td>\n",
       "      <td>2003</td>\n",
       "      <td>5</td>\n",
       "      <td>1</td>\n",
       "    </tr>\n",
       "    <tr>\n",
       "      <th>3</th>\n",
       "      <td>0</td>\n",
       "      <td>0</td>\n",
       "      <td>1</td>\n",
       "      <td>0</td>\n",
       "      <td>0</td>\n",
       "      <td>0</td>\n",
       "      <td>1</td>\n",
       "      <td>888</td>\n",
       "      <td>1</td>\n",
       "      <td>4</td>\n",
       "      <td>...</td>\n",
       "      <td>False</td>\n",
       "      <td>False</td>\n",
       "      <td>False</td>\n",
       "      <td>False</td>\n",
       "      <td>False</td>\n",
       "      <td>4.99</td>\n",
       "      <td>4.99</td>\n",
       "      <td>2001</td>\n",
       "      <td>6</td>\n",
       "      <td>1</td>\n",
       "    </tr>\n",
       "    <tr>\n",
       "      <th>4</th>\n",
       "      <td>0</td>\n",
       "      <td>0</td>\n",
       "      <td>1</td>\n",
       "      <td>0</td>\n",
       "      <td>0</td>\n",
       "      <td>0</td>\n",
       "      <td>1</td>\n",
       "      <td>2934</td>\n",
       "      <td>1</td>\n",
       "      <td>5</td>\n",
       "      <td>...</td>\n",
       "      <td>False</td>\n",
       "      <td>False</td>\n",
       "      <td>False</td>\n",
       "      <td>False</td>\n",
       "      <td>False</td>\n",
       "      <td>4.99</td>\n",
       "      <td>4.99</td>\n",
       "      <td>1999</td>\n",
       "      <td>11</td>\n",
       "      <td>1</td>\n",
       "    </tr>\n",
       "  </tbody>\n",
       "</table>\n",
       "<p>5 rows × 53 columns</p>\n",
       "</div>"
      ],
      "text/plain": [
       "   RequiredAge  DemoCount  DeveloperCount  DLCCount  Metacritic  MovieCount  \\\n",
       "0            0          0               1         0          88           0   \n",
       "1            0          0               1         0           0           0   \n",
       "2            0          0               1         0          79           0   \n",
       "3            0          0               1         0           0           0   \n",
       "4            0          0               1         0           0           0   \n",
       "\n",
       "   PackageCount  RecommendationCount  PublisherCount  ScreenshotCount  ...  \\\n",
       "0             1                68991               1               13  ...   \n",
       "1             1                 2439               1                5  ...   \n",
       "2             1                 2319               1                5  ...   \n",
       "3             1                  888               1                4  ...   \n",
       "4             1                 2934               1                5  ...   \n",
       "\n",
       "   GenreIsEarlyAccess  GenreIsFreeToPlay  GenreIsSports  GenreIsRacing  \\\n",
       "0               False              False          False          False   \n",
       "1               False              False          False          False   \n",
       "2               False              False          False          False   \n",
       "3               False              False          False          False   \n",
       "4               False              False          False          False   \n",
       "\n",
       "   GenreIsMassivelyMultiplayer  PriceInitial  PriceFinal  ReleaseYear  \\\n",
       "0                        False          9.99        9.99         2000   \n",
       "1                        False          4.99        4.99         1999   \n",
       "2                        False          4.99        4.99         2003   \n",
       "3                        False          4.99        4.99         2001   \n",
       "4                        False          4.99        4.99         1999   \n",
       "\n",
       "   ReleaseMonth  ReleaseDay  \n",
       "0            11           1  \n",
       "1             4           1  \n",
       "2             5           1  \n",
       "3             6           1  \n",
       "4            11           1  \n",
       "\n",
       "[5 rows x 53 columns]"
      ]
     },
     "execution_count": 3,
     "metadata": {},
     "output_type": "execute_result"
    }
   ],
   "source": [
    "def steam_clean(df):\n",
    "    ret = df.drop(labels=[\n",
    "        'QueryID', # These are just related to webscraping\n",
    "        'ResponseID',\n",
    "        'QueryName',\n",
    "        'ResponseName', # Could be useful for 'catchiness' or 'length', but that's a whole can of worms\n",
    "        'SupportEmail',\n",
    "        'SupportURL',\n",
    "        'Background', # All 4 of these actually contain a LOT of data, but again, analyzing sequential text data is hard.\n",
    "        'ShortDescrip',\n",
    "        'DetailedDescrip',\n",
    "        'AboutText',\n",
    "        'PriceCurrency', # Assumed to be USD\n",
    "        'DRMNotice', # useful to convert to boolean value\n",
    "        'ExtUserAcctNotice', # useful to convert to boolean value\n",
    "        'HeaderImage', # boolean\n",
    "        'LegalNotice', # boolean\n",
    "        'Reviews', # boolean\n",
    "        'SupportedLanguages', # Could separate up into a series of encoded variables, remove for now\n",
    "        'Website', # boolean\n",
    "        'PCMinReqsText', # All of these could have sentiment analysis done on them\n",
    "        'PCRecReqsText',\n",
    "        'LinuxMinReqsText',\n",
    "        'LinuxRecReqsText',\n",
    "        'MacMinReqsText',\n",
    "        'MacRecReqsText',\n",
    "        'SteamSpyPlayersEstimate', # The next three are dead giveaways and would give the model too much information.\n",
    "        'SteamSpyPlayersVariance',\n",
    "        'SteamSpyOwnersVariance', # Maybe could be incorporated into evaluation in some way\n",
    "    ], axis=1)\n",
    "    \n",
    "    ret['ReleaseDate'] = pd.to_datetime(ret['ReleaseDate'], errors='coerce')\n",
    "    \n",
    "    # I would rather remove games that have no release date rather than impute them. Knowing steam, they probably aren't released yet, and imputation makes no sense here.\n",
    "    # I might replace it with iterative imputation, but as it stands I'm losing like 400 games out of the 40,000 samples. I'd rather just not train on them.\n",
    "    ret.dropna(subset=['ReleaseDate'], inplace=True)\n",
    "    \n",
    "    ret['ReleaseYear'] = pd.DatetimeIndex(ret['ReleaseDate']).year\n",
    "    ret['ReleaseMonth'] = pd.DatetimeIndex(ret['ReleaseDate']).month\n",
    "    ret['ReleaseDay'] = pd.DatetimeIndex(ret['ReleaseDate']).day\n",
    "    ret = ret.drop(['ReleaseDate'], axis=1)\n",
    "    return ret\n",
    "\n",
    "steam_cleaned = steam_clean(steam)\n",
    "steam_cleaned.head() # MINDBLOWINGLY, SHOCKINGLY CLEAN"
   ]
  },
  {
   "cell_type": "code",
   "execution_count": 24,
   "metadata": {
    "collapsed": true,
    "jupyter": {
     "outputs_hidden": true
    }
   },
   "outputs": [
    {
     "data": {
      "text/plain": [
       "RequiredAge                      int64\n",
       "DemoCount                        int64\n",
       "DeveloperCount                   int64\n",
       "DLCCount                         int64\n",
       "Metacritic                       int64\n",
       "MovieCount                       int64\n",
       "PackageCount                     int64\n",
       "RecommendationCount              int64\n",
       "PublisherCount                   int64\n",
       "ScreenshotCount                  int64\n",
       "SteamSpyOwners                   int64\n",
       "AchievementCount                 int64\n",
       "AchievementHighlightedCount      int64\n",
       "ControllerSupport                 bool\n",
       "IsFree                            bool\n",
       "FreeVerAvail                      bool\n",
       "PurchaseAvail                     bool\n",
       "SubscriptionAvail                 bool\n",
       "PlatformWindows                   bool\n",
       "PlatformLinux                     bool\n",
       "PlatformMac                       bool\n",
       "PCReqsHaveMin                     bool\n",
       "PCReqsHaveRec                     bool\n",
       "LinuxReqsHaveMin                  bool\n",
       "LinuxReqsHaveRec                  bool\n",
       "MacReqsHaveMin                    bool\n",
       "MacReqsHaveRec                    bool\n",
       "CategorySinglePlayer              bool\n",
       "CategoryMultiplayer               bool\n",
       "CategoryCoop                      bool\n",
       "CategoryMMO                       bool\n",
       "CategoryInAppPurchase             bool\n",
       "CategoryIncludeSrcSDK             bool\n",
       "CategoryIncludeLevelEditor        bool\n",
       "CategoryVRSupport                 bool\n",
       "GenreIsNonGame                    bool\n",
       "GenreIsIndie                      bool\n",
       "GenreIsAction                     bool\n",
       "GenreIsAdventure                  bool\n",
       "GenreIsCasual                     bool\n",
       "GenreIsStrategy                   bool\n",
       "GenreIsRPG                        bool\n",
       "GenreIsSimulation                 bool\n",
       "GenreIsEarlyAccess                bool\n",
       "GenreIsFreeToPlay                 bool\n",
       "GenreIsSports                     bool\n",
       "GenreIsRacing                     bool\n",
       "GenreIsMassivelyMultiplayer       bool\n",
       "PriceInitial                   float64\n",
       "PriceFinal                     float64\n",
       "ReleaseYear                      int64\n",
       "ReleaseMonth                     int64\n",
       "ReleaseDay                       int64\n",
       "dtype: object"
      ]
     },
     "execution_count": 24,
     "metadata": {},
     "output_type": "execute_result"
    }
   ],
   "source": [
    "steam_cleaned.dtypes"
   ]
  },
  {
   "cell_type": "code",
   "execution_count": 4,
   "metadata": {},
   "outputs": [],
   "source": [
    "def steam_preprocess(df):\n",
    "    numerical_ix = df.select_dtypes(include=['int64', 'float64']).columns\n",
    "\n",
    "    steam_preprocessor = ColumnTransformer(transformers=[\n",
    "        ('num', MinMaxScaler(), numerical_ix),\n",
    "    ], remainder='passthrough')\n",
    "    \n",
    "    return steam_preprocessor\n"
   ]
  },
  {
   "cell_type": "code",
   "execution_count": 5,
   "metadata": {},
   "outputs": [
    {
     "data": {
      "text/plain": [
       "(12872, 53)"
      ]
     },
     "execution_count": 5,
     "metadata": {},
     "output_type": "execute_result"
    }
   ],
   "source": [
    "steam_cleaned.shape"
   ]
  },
  {
   "cell_type": "code",
   "execution_count": 6,
   "metadata": {},
   "outputs": [
    {
     "name": "stdout",
     "output_type": "stream",
     "text": [
      "(10297, 52)\n"
     ]
    }
   ],
   "source": [
    "X = steam_cleaned.drop(['SteamSpyOwners'], axis=1)\n",
    "y = steam_cleaned['SteamSpyOwners']\n",
    "\n",
    "X_train, X_test, y_train, y_test = train_test_split(X, y, test_size=0.2, random_state=666)\n",
    "\n",
    "X_train_unscaled = X_train\n",
    "X_test_unscaled = X_test\n",
    "\n",
    "ct = steam_preprocess(X_train)\n",
    "\n",
    "X_train = ct.fit_transform(X_train)\n",
    "X_test = ct.transform(X_test)\n",
    "\n",
    "print(X_train.shape)"
   ]
  },
  {
   "cell_type": "markdown",
   "metadata": {},
   "source": [
    "## Linear Regression Implementation and Comparison\n",
    "\n",
    "Compares LinReg, a hand-implemented LinReg implementation, and SGDReg.\n",
    "\n",
    "The former two use the normal equation for linear regression, while the latter uses gradient descent. Comparison of times, coefficients and scores (RMSE) is provided."
   ]
  },
  {
   "cell_type": "code",
   "execution_count": 82,
   "metadata": {},
   "outputs": [
    {
     "name": "stdout",
     "output_type": "stream",
     "text": [
      "Time elapsed:  1.20595121383667\n"
     ]
    },
    {
     "data": {
      "text/plain": [
       "array([ 1.65605346e+05, -2.59034433e+05,  3.25151783e+05,  2.00003305e+05,\n",
       "        3.63388775e+05,  2.26748848e+06, -3.71240534e+05,  1.22718220e+07,\n",
       "        3.79507512e+05, -6.52855567e+04,  1.58974170e+06, -1.84480624e+04,\n",
       "       -2.19479925e+05, -1.83072831e+05, -1.95403086e+06, -1.10907549e+04,\n",
       "       -7.28016439e+04, -1.22304183e+04,  1.47992182e+05, -3.59805194e+05,\n",
       "        2.27038330e+04, -5.23605124e+04,  8.12489699e+05,  2.11587088e+05,\n",
       "        7.27771559e+04, -5.58186474e+03,  4.84609289e+04,  7.54855949e+03,\n",
       "       -1.40790402e+05,  1.26521488e+04, -4.45353603e+04, -4.18054089e+05,\n",
       "       -5.99777323e+04,  2.08488957e+05, -3.17884110e+04,  1.14711106e+06,\n",
       "        2.69790578e+06,  9.66884389e+04,  1.21875839e+05, -3.20554232e+05,\n",
       "       -8.18783585e+04,  1.25568837e+05,  6.58981867e+03,  2.27725421e+04,\n",
       "       -2.74516281e+04,  1.92171783e+04,  5.25806666e+04,  3.05058140e+04,\n",
       "        3.94766696e+05, -5.69348375e+04, -7.06896083e+04, -3.91482015e+05])"
      ]
     },
     "execution_count": 82,
     "metadata": {},
     "output_type": "execute_result"
    }
   ],
   "source": [
    "# No hyperparameter tuning\n",
    "\n",
    "start = time.time()\n",
    "reg = SGDRegressor(alpha=0, max_iter=10000).fit(X_train, y_train)\n",
    "print(\"Time elapsed: \", time.time() - start)\n",
    "\n",
    "reg.coef_"
   ]
  },
  {
   "cell_type": "code",
   "execution_count": 83,
   "metadata": {},
   "outputs": [
    {
     "data": {
      "text/plain": [
       "array([ 7.56461525e+04, -1.52688460e+05,  3.48798228e+05, -6.51304399e+04,\n",
       "        2.40187147e+05,  8.52253988e+05, -3.06589464e+05,  6.25954693e+07,\n",
       "        3.27518526e+05, -1.06969439e+05,  9.21234776e+05, -1.06361745e+04,\n",
       "        1.04508289e+05, -6.37206513e+05, -1.58565864e+06, -2.91386724e+04,\n",
       "       -7.07106192e+04, -3.09671805e+04,  1.59895424e+05, -3.19749632e+05,\n",
       "        1.77358819e+04, -1.92346838e+03, -6.58036770e+04,  1.62201595e+05,\n",
       "        6.08913778e+04, -8.21429279e+04,  4.32664565e+04, -5.57853252e+04,\n",
       "       -7.83650053e+04,  1.68617751e+04, -4.06928884e+04, -2.21971576e+05,\n",
       "       -4.81333461e+04,  1.57414436e+05,  7.10343929e+04,  4.04852633e+05,\n",
       "        2.48698854e+06,  4.37185789e+04,  7.36768985e+04, -1.43228875e+05,\n",
       "       -5.24268691e+04,  1.00636289e+05,  1.82773742e+03,  6.37832475e+03,\n",
       "       -5.42835224e+02,  5.04873491e+03,  3.04002883e+04,  2.47132874e+04,\n",
       "        3.76975868e+05, -6.42186124e+03, -3.44353182e+04, -2.68425127e+05])"
      ]
     },
     "execution_count": 83,
     "metadata": {},
     "output_type": "execute_result"
    }
   ],
   "source": [
    "reg = LinearRegression().fit(X_train, y_train)\n",
    "\n",
    "reg.coef_"
   ]
  },
  {
   "cell_type": "code",
   "execution_count": 87,
   "metadata": {},
   "outputs": [],
   "source": [
    "# Custom linear regression\n",
    "\n",
    "class GhettoLinearRegression(BaseEstimator, RegressorMixin):\n",
    "    coef_ = None\n",
    "    \n",
    "    def _pad_column(self, X): # Adds column of 1's at the beginning for the intercept\n",
    "        X = as_numpy(X, dtype='float')\n",
    "        return np.insert(X, 0, 1, axis=1)\n",
    "        #return np.append(X, 1, axis=1)\n",
    "    \n",
    "    def fit(self, X, y):\n",
    "        X = self._pad_column(X)\n",
    "        self.coef_ = np.linalg.pinv(X.T.dot(X)).dot(X.T.dot(y))\n",
    "        return self\n",
    "    \n",
    "    def predict(self, X):\n",
    "        X = self._pad_column(X)\n",
    "        return X.dot(self.coef_)\n",
    "    \n",
    "    def score(self, X, y):\n",
    "        pred = self.predict(X)\n",
    "        return (pred - y)**2"
   ]
  },
  {
   "cell_type": "code",
   "execution_count": 88,
   "metadata": {},
   "outputs": [
    {
     "name": "stdout",
     "output_type": "stream",
     "text": [
      "Time elapsed:  0.008621454238891602\n"
     ]
    },
    {
     "data": {
      "text/plain": [
       "array([ 1.48752645e+06,  7.56461525e+04, -1.52688460e+05,  3.48798228e+05,\n",
       "       -6.51304399e+04,  2.40187147e+05,  8.52253988e+05, -3.06589464e+05,\n",
       "        6.25954693e+07,  3.27518526e+05, -1.06969439e+05,  9.21234776e+05,\n",
       "       -1.06361745e+04,  1.04508289e+05, -6.37206513e+05, -1.58565864e+06,\n",
       "       -2.91386724e+04, -7.07106192e+04, -3.09671805e+04,  1.59895424e+05,\n",
       "       -3.19749632e+05,  1.77358819e+04, -1.92346838e+03, -6.58036772e+04,\n",
       "        1.62201595e+05,  6.08913778e+04, -8.21429279e+04,  4.32664565e+04,\n",
       "       -5.57853252e+04, -7.83650053e+04,  1.68617751e+04, -4.06928884e+04,\n",
       "       -2.21971576e+05, -4.81333461e+04,  1.57414436e+05,  7.10343929e+04,\n",
       "        4.04852633e+05,  2.48698854e+06,  4.37185789e+04,  7.36768985e+04,\n",
       "       -1.43228875e+05, -5.24268691e+04,  1.00636289e+05,  1.82773742e+03,\n",
       "        6.37832475e+03, -5.42835224e+02,  5.04873491e+03,  3.04002883e+04,\n",
       "        2.47132874e+04,  3.76975868e+05, -6.42186124e+03, -3.44353182e+04,\n",
       "       -2.68425127e+05])"
      ]
     },
     "execution_count": 88,
     "metadata": {},
     "output_type": "execute_result"
    }
   ],
   "source": [
    "start = time.time()\n",
    "reg = GhettoLinearRegression().fit(X_train, y_train)\n",
    "print(\"Time elapsed: \", time.time() - start)\n",
    "\n",
    "reg.coef_"
   ]
  },
  {
   "cell_type": "code",
   "execution_count": 24,
   "metadata": {},
   "outputs": [],
   "source": [
    "def compareModels(models):\n",
    "    for model in models:\n",
    "        scores = cross_val_score(model, X_train, y_train, cv=5, scoring='neg_root_mean_squared_error')\n",
    "        print(type(model).__name__, \"performance:\", -np.mean(scores))\n",
    "        "
   ]
  },
  {
   "cell_type": "code",
   "execution_count": 89,
   "metadata": {},
   "outputs": [
    {
     "name": "stdout",
     "output_type": "stream",
     "text": [
      "LinearRegression performance: 1258156.2150331999\n",
      "GhettoLinearRegression performance: 1258206.903153156\n",
      "SGDRegressor performance: 1026670.0388078603\n"
     ]
    }
   ],
   "source": [
    "compareModels([LinearRegression(), GhettoLinearRegression(), SGDRegressor(alpha=0, max_iter=10000)])"
   ]
  },
  {
   "cell_type": "markdown",
   "metadata": {},
   "source": [
    "## Logistic Regression Regularization Comparison"
   ]
  },
  {
   "cell_type": "code",
   "execution_count": 97,
   "metadata": {
    "collapsed": true,
    "jupyter": {
     "outputs_hidden": true
    }
   },
   "outputs": [
    {
     "name": "stderr",
     "output_type": "stream",
     "text": [
      "[Parallel(n_jobs=4)]: Using backend LokyBackend with 4 concurrent workers.\n",
      "[Parallel(n_jobs=4)]: Done   2 out of   5 | elapsed:   46.8s remaining:  1.2min\n",
      "[Parallel(n_jobs=4)]: Done   3 out of   5 | elapsed:   46.8s remaining:   31.2s\n",
      "[Parallel(n_jobs=4)]: Done   5 out of   5 | elapsed:   46.8s remaining:    0.0s\n"
     ]
    },
    {
     "ename": "KeyboardInterrupt",
     "evalue": "",
     "output_type": "error",
     "traceback": [
      "\u001b[0;31m---------------------------------------------------------------------------\u001b[0m",
      "\u001b[0;31mKeyboardInterrupt\u001b[0m                         Traceback (most recent call last)",
      "\u001b[0;32m<ipython-input-97-e99446ba5039>\u001b[0m in \u001b[0;36m<module>\u001b[0;34m\u001b[0m\n\u001b[1;32m      1\u001b[0m \u001b[0mclf\u001b[0m \u001b[0;34m=\u001b[0m \u001b[0mLogisticRegression\u001b[0m\u001b[0;34m(\u001b[0m\u001b[0;34m)\u001b[0m\u001b[0;34m\u001b[0m\u001b[0;34m\u001b[0m\u001b[0m\n\u001b[1;32m      2\u001b[0m \u001b[0;34m\u001b[0m\u001b[0m\n\u001b[0;32m----> 3\u001b[0;31m \u001b[0mscores\u001b[0m \u001b[0;34m=\u001b[0m \u001b[0mcross_val_score\u001b[0m\u001b[0;34m(\u001b[0m\u001b[0mclf\u001b[0m\u001b[0;34m,\u001b[0m \u001b[0mX_train_unscaled\u001b[0m\u001b[0;34m,\u001b[0m \u001b[0my_train\u001b[0m\u001b[0;34m,\u001b[0m \u001b[0mcv\u001b[0m\u001b[0;34m=\u001b[0m\u001b[0mKFold\u001b[0m\u001b[0;34m(\u001b[0m\u001b[0;36m5\u001b[0m\u001b[0;34m)\u001b[0m\u001b[0;34m,\u001b[0m \u001b[0mverbose\u001b[0m\u001b[0;34m=\u001b[0m\u001b[0;36m10\u001b[0m\u001b[0;34m,\u001b[0m \u001b[0mn_jobs\u001b[0m\u001b[0;34m=\u001b[0m\u001b[0;36m4\u001b[0m\u001b[0;34m)\u001b[0m\u001b[0;34m\u001b[0m\u001b[0;34m\u001b[0m\u001b[0m\n\u001b[0m",
      "\u001b[0;32m~/.build/miniconda3/lib/python3.7/site-packages/sklearn/model_selection/_validation.py\u001b[0m in \u001b[0;36mcross_val_score\u001b[0;34m(estimator, X, y, groups, scoring, cv, n_jobs, verbose, fit_params, pre_dispatch, error_score)\u001b[0m\n\u001b[1;32m    388\u001b[0m                                 \u001b[0mfit_params\u001b[0m\u001b[0;34m=\u001b[0m\u001b[0mfit_params\u001b[0m\u001b[0;34m,\u001b[0m\u001b[0;34m\u001b[0m\u001b[0;34m\u001b[0m\u001b[0m\n\u001b[1;32m    389\u001b[0m                                 \u001b[0mpre_dispatch\u001b[0m\u001b[0;34m=\u001b[0m\u001b[0mpre_dispatch\u001b[0m\u001b[0;34m,\u001b[0m\u001b[0;34m\u001b[0m\u001b[0;34m\u001b[0m\u001b[0m\n\u001b[0;32m--> 390\u001b[0;31m                                 error_score=error_score)\n\u001b[0m\u001b[1;32m    391\u001b[0m     \u001b[0;32mreturn\u001b[0m \u001b[0mcv_results\u001b[0m\u001b[0;34m[\u001b[0m\u001b[0;34m'test_score'\u001b[0m\u001b[0;34m]\u001b[0m\u001b[0;34m\u001b[0m\u001b[0;34m\u001b[0m\u001b[0m\n\u001b[1;32m    392\u001b[0m \u001b[0;34m\u001b[0m\u001b[0m\n",
      "\u001b[0;32m~/.build/miniconda3/lib/python3.7/site-packages/sklearn/model_selection/_validation.py\u001b[0m in \u001b[0;36mcross_validate\u001b[0;34m(estimator, X, y, groups, scoring, cv, n_jobs, verbose, fit_params, pre_dispatch, return_train_score, return_estimator, error_score)\u001b[0m\n\u001b[1;32m    234\u001b[0m             \u001b[0mreturn_times\u001b[0m\u001b[0;34m=\u001b[0m\u001b[0;32mTrue\u001b[0m\u001b[0;34m,\u001b[0m \u001b[0mreturn_estimator\u001b[0m\u001b[0;34m=\u001b[0m\u001b[0mreturn_estimator\u001b[0m\u001b[0;34m,\u001b[0m\u001b[0;34m\u001b[0m\u001b[0;34m\u001b[0m\u001b[0m\n\u001b[1;32m    235\u001b[0m             error_score=error_score)\n\u001b[0;32m--> 236\u001b[0;31m         for train, test in cv.split(X, y, groups))\n\u001b[0m\u001b[1;32m    237\u001b[0m \u001b[0;34m\u001b[0m\u001b[0m\n\u001b[1;32m    238\u001b[0m     \u001b[0mzipped_scores\u001b[0m \u001b[0;34m=\u001b[0m \u001b[0mlist\u001b[0m\u001b[0;34m(\u001b[0m\u001b[0mzip\u001b[0m\u001b[0;34m(\u001b[0m\u001b[0;34m*\u001b[0m\u001b[0mscores\u001b[0m\u001b[0;34m)\u001b[0m\u001b[0;34m)\u001b[0m\u001b[0;34m\u001b[0m\u001b[0;34m\u001b[0m\u001b[0m\n",
      "\u001b[0;32m~/.build/miniconda3/lib/python3.7/site-packages/joblib/parallel.py\u001b[0m in \u001b[0;36m__call__\u001b[0;34m(self, iterable)\u001b[0m\n\u001b[1;32m   1015\u001b[0m \u001b[0;34m\u001b[0m\u001b[0m\n\u001b[1;32m   1016\u001b[0m             \u001b[0;32mwith\u001b[0m \u001b[0mself\u001b[0m\u001b[0;34m.\u001b[0m\u001b[0m_backend\u001b[0m\u001b[0;34m.\u001b[0m\u001b[0mretrieval_context\u001b[0m\u001b[0;34m(\u001b[0m\u001b[0;34m)\u001b[0m\u001b[0;34m:\u001b[0m\u001b[0;34m\u001b[0m\u001b[0;34m\u001b[0m\u001b[0m\n\u001b[0;32m-> 1017\u001b[0;31m                 \u001b[0mself\u001b[0m\u001b[0;34m.\u001b[0m\u001b[0mretrieve\u001b[0m\u001b[0;34m(\u001b[0m\u001b[0;34m)\u001b[0m\u001b[0;34m\u001b[0m\u001b[0;34m\u001b[0m\u001b[0m\n\u001b[0m\u001b[1;32m   1018\u001b[0m             \u001b[0;31m# Make sure that we get a last message telling us we are done\u001b[0m\u001b[0;34m\u001b[0m\u001b[0;34m\u001b[0m\u001b[0;34m\u001b[0m\u001b[0m\n\u001b[1;32m   1019\u001b[0m             \u001b[0melapsed_time\u001b[0m \u001b[0;34m=\u001b[0m \u001b[0mtime\u001b[0m\u001b[0;34m.\u001b[0m\u001b[0mtime\u001b[0m\u001b[0;34m(\u001b[0m\u001b[0;34m)\u001b[0m \u001b[0;34m-\u001b[0m \u001b[0mself\u001b[0m\u001b[0;34m.\u001b[0m\u001b[0m_start_time\u001b[0m\u001b[0;34m\u001b[0m\u001b[0;34m\u001b[0m\u001b[0m\n",
      "\u001b[0;32m~/.build/miniconda3/lib/python3.7/site-packages/joblib/parallel.py\u001b[0m in \u001b[0;36mretrieve\u001b[0;34m(self)\u001b[0m\n\u001b[1;32m    907\u001b[0m             \u001b[0;32mtry\u001b[0m\u001b[0;34m:\u001b[0m\u001b[0;34m\u001b[0m\u001b[0;34m\u001b[0m\u001b[0m\n\u001b[1;32m    908\u001b[0m                 \u001b[0;32mif\u001b[0m \u001b[0mgetattr\u001b[0m\u001b[0;34m(\u001b[0m\u001b[0mself\u001b[0m\u001b[0;34m.\u001b[0m\u001b[0m_backend\u001b[0m\u001b[0;34m,\u001b[0m \u001b[0;34m'supports_timeout'\u001b[0m\u001b[0;34m,\u001b[0m \u001b[0;32mFalse\u001b[0m\u001b[0;34m)\u001b[0m\u001b[0;34m:\u001b[0m\u001b[0;34m\u001b[0m\u001b[0;34m\u001b[0m\u001b[0m\n\u001b[0;32m--> 909\u001b[0;31m                     \u001b[0mself\u001b[0m\u001b[0;34m.\u001b[0m\u001b[0m_output\u001b[0m\u001b[0;34m.\u001b[0m\u001b[0mextend\u001b[0m\u001b[0;34m(\u001b[0m\u001b[0mjob\u001b[0m\u001b[0;34m.\u001b[0m\u001b[0mget\u001b[0m\u001b[0;34m(\u001b[0m\u001b[0mtimeout\u001b[0m\u001b[0;34m=\u001b[0m\u001b[0mself\u001b[0m\u001b[0;34m.\u001b[0m\u001b[0mtimeout\u001b[0m\u001b[0;34m)\u001b[0m\u001b[0;34m)\u001b[0m\u001b[0;34m\u001b[0m\u001b[0;34m\u001b[0m\u001b[0m\n\u001b[0m\u001b[1;32m    910\u001b[0m                 \u001b[0;32melse\u001b[0m\u001b[0;34m:\u001b[0m\u001b[0;34m\u001b[0m\u001b[0;34m\u001b[0m\u001b[0m\n\u001b[1;32m    911\u001b[0m                     \u001b[0mself\u001b[0m\u001b[0;34m.\u001b[0m\u001b[0m_output\u001b[0m\u001b[0;34m.\u001b[0m\u001b[0mextend\u001b[0m\u001b[0;34m(\u001b[0m\u001b[0mjob\u001b[0m\u001b[0;34m.\u001b[0m\u001b[0mget\u001b[0m\u001b[0;34m(\u001b[0m\u001b[0;34m)\u001b[0m\u001b[0;34m)\u001b[0m\u001b[0;34m\u001b[0m\u001b[0;34m\u001b[0m\u001b[0m\n",
      "\u001b[0;32m~/.build/miniconda3/lib/python3.7/site-packages/joblib/_parallel_backends.py\u001b[0m in \u001b[0;36mwrap_future_result\u001b[0;34m(future, timeout)\u001b[0m\n\u001b[1;32m    560\u001b[0m         AsyncResults.get from multiprocessing.\"\"\"\n\u001b[1;32m    561\u001b[0m         \u001b[0;32mtry\u001b[0m\u001b[0;34m:\u001b[0m\u001b[0;34m\u001b[0m\u001b[0;34m\u001b[0m\u001b[0m\n\u001b[0;32m--> 562\u001b[0;31m             \u001b[0;32mreturn\u001b[0m \u001b[0mfuture\u001b[0m\u001b[0;34m.\u001b[0m\u001b[0mresult\u001b[0m\u001b[0;34m(\u001b[0m\u001b[0mtimeout\u001b[0m\u001b[0;34m=\u001b[0m\u001b[0mtimeout\u001b[0m\u001b[0;34m)\u001b[0m\u001b[0;34m\u001b[0m\u001b[0;34m\u001b[0m\u001b[0m\n\u001b[0m\u001b[1;32m    563\u001b[0m         \u001b[0;32mexcept\u001b[0m \u001b[0mLokyTimeoutError\u001b[0m\u001b[0;34m:\u001b[0m\u001b[0;34m\u001b[0m\u001b[0;34m\u001b[0m\u001b[0m\n\u001b[1;32m    564\u001b[0m             \u001b[0;32mraise\u001b[0m \u001b[0mTimeoutError\u001b[0m\u001b[0;34m(\u001b[0m\u001b[0;34m)\u001b[0m\u001b[0;34m\u001b[0m\u001b[0;34m\u001b[0m\u001b[0m\n",
      "\u001b[0;32m~/.build/miniconda3/lib/python3.7/concurrent/futures/_base.py\u001b[0m in \u001b[0;36mresult\u001b[0;34m(self, timeout)\u001b[0m\n\u001b[1;32m    428\u001b[0m                 \u001b[0;32mreturn\u001b[0m \u001b[0mself\u001b[0m\u001b[0;34m.\u001b[0m\u001b[0m__get_result\u001b[0m\u001b[0;34m(\u001b[0m\u001b[0;34m)\u001b[0m\u001b[0;34m\u001b[0m\u001b[0;34m\u001b[0m\u001b[0m\n\u001b[1;32m    429\u001b[0m \u001b[0;34m\u001b[0m\u001b[0m\n\u001b[0;32m--> 430\u001b[0;31m             \u001b[0mself\u001b[0m\u001b[0;34m.\u001b[0m\u001b[0m_condition\u001b[0m\u001b[0;34m.\u001b[0m\u001b[0mwait\u001b[0m\u001b[0;34m(\u001b[0m\u001b[0mtimeout\u001b[0m\u001b[0;34m)\u001b[0m\u001b[0;34m\u001b[0m\u001b[0;34m\u001b[0m\u001b[0m\n\u001b[0m\u001b[1;32m    431\u001b[0m \u001b[0;34m\u001b[0m\u001b[0m\n\u001b[1;32m    432\u001b[0m             \u001b[0;32mif\u001b[0m \u001b[0mself\u001b[0m\u001b[0;34m.\u001b[0m\u001b[0m_state\u001b[0m \u001b[0;32min\u001b[0m \u001b[0;34m[\u001b[0m\u001b[0mCANCELLED\u001b[0m\u001b[0;34m,\u001b[0m \u001b[0mCANCELLED_AND_NOTIFIED\u001b[0m\u001b[0;34m]\u001b[0m\u001b[0;34m:\u001b[0m\u001b[0;34m\u001b[0m\u001b[0;34m\u001b[0m\u001b[0m\n",
      "\u001b[0;32m~/.build/miniconda3/lib/python3.7/threading.py\u001b[0m in \u001b[0;36mwait\u001b[0;34m(self, timeout)\u001b[0m\n\u001b[1;32m    294\u001b[0m         \u001b[0;32mtry\u001b[0m\u001b[0;34m:\u001b[0m    \u001b[0;31m# restore state no matter what (e.g., KeyboardInterrupt)\u001b[0m\u001b[0;34m\u001b[0m\u001b[0;34m\u001b[0m\u001b[0m\n\u001b[1;32m    295\u001b[0m             \u001b[0;32mif\u001b[0m \u001b[0mtimeout\u001b[0m \u001b[0;32mis\u001b[0m \u001b[0;32mNone\u001b[0m\u001b[0;34m:\u001b[0m\u001b[0;34m\u001b[0m\u001b[0;34m\u001b[0m\u001b[0m\n\u001b[0;32m--> 296\u001b[0;31m                 \u001b[0mwaiter\u001b[0m\u001b[0;34m.\u001b[0m\u001b[0macquire\u001b[0m\u001b[0;34m(\u001b[0m\u001b[0;34m)\u001b[0m\u001b[0;34m\u001b[0m\u001b[0;34m\u001b[0m\u001b[0m\n\u001b[0m\u001b[1;32m    297\u001b[0m                 \u001b[0mgotit\u001b[0m \u001b[0;34m=\u001b[0m \u001b[0;32mTrue\u001b[0m\u001b[0;34m\u001b[0m\u001b[0;34m\u001b[0m\u001b[0m\n\u001b[1;32m    298\u001b[0m             \u001b[0;32melse\u001b[0m\u001b[0;34m:\u001b[0m\u001b[0;34m\u001b[0m\u001b[0;34m\u001b[0m\u001b[0m\n",
      "\u001b[0;31mKeyboardInterrupt\u001b[0m: "
     ]
    }
   ],
   "source": [
    "clf = LogisticRegression()\n",
    "\n",
    "scores = cross_val_score(clf, X_train_unscaled, y_train, cv=KFold(5), verbose=10, n_jobs=4)"
   ]
  },
  {
   "cell_type": "code",
   "execution_count": null,
   "metadata": {},
   "outputs": [],
   "source": [
    "scores"
   ]
  },
  {
   "cell_type": "code",
   "execution_count": null,
   "metadata": {},
   "outputs": [],
   "source": [
    "search = GridSearchCV(LogisticRegression(), [\n",
    "    {'penalty': ['l2', 'l1'], 'C': [0.001, 0.1, 1]},\n",
    "    {'penalty': ['elasticnet'], 'C': [0.001, 0.1, 1], 'l1_ratio': [0.05, 0.5, 0.95]}\n",
    "],scoring='neg_mean_squared_error', cv=KFold(2), n_jobs=4, verbose=10)\n",
    "\n",
    "search = search.fit(X_train, y_train)"
   ]
  },
  {
   "cell_type": "code",
   "execution_count": null,
   "metadata": {},
   "outputs": [],
   "source": [
    "search.best_params_"
   ]
  },
  {
   "cell_type": "code",
   "execution_count": null,
   "metadata": {},
   "outputs": [],
   "source": [
    "search.cv_results_['mean_test_score'] # Getting the sense that logistic regression is not working very well for this dataset"
   ]
  },
  {
   "cell_type": "markdown",
   "metadata": {},
   "source": [
    "## KNN Implementation"
   ]
  },
  {
   "cell_type": "code",
   "execution_count": 31,
   "metadata": {},
   "outputs": [],
   "source": [
    "class GhettoKNN(BaseEstimator, RegressorMixin):\n",
    "    def __init__(self, k=1, p=2):\n",
    "        self.k_ = k\n",
    "        self.p_ = p\n",
    "        #self.scaler_ = StandardScaler()\n",
    "    X_ = None\n",
    "    y_ = None\n",
    "    def dist(self, x1, x2):\n",
    "        #print('x1:',  x1)\n",
    "        #print('x2:', x2)\n",
    "        ab = np.absolute(x2 - x1)\n",
    "        #print('ab:', ab)\n",
    "        pw = ab**self.p_\n",
    "        #print('pw:', pw)\n",
    "        sm = np.sum(pw, axis=1)\n",
    "        #print('sm:', sm)\n",
    "        fn = sm ** (1.0 / self.p_)\n",
    "        #print('fn:', fn)\n",
    "        return fn\n",
    "    \n",
    "    def fit(self, X, y):\n",
    "        #self.X_ = self.scaler_.fit_transform(X.to_numpy(dtype='float'))\n",
    "        self.X_ = as_numpy(X, dtype='float')\n",
    "        #print(self.X_.shape)\n",
    "        #print(len(self.X_))\n",
    "        self.y_ = as_numpy(y)\n",
    "        print(type(self.y_))\n",
    "        return self\n",
    "        \n",
    "    def predict(self, X):\n",
    "        X = as_numpy(X, dtype='float')\n",
    "        #print(np.sum(X))\n",
    "        # Go one example at a time\n",
    "        predictions = []\n",
    "        for example in X:\n",
    "            #print(example)\n",
    "            # Make an array of repeating examples\n",
    "            t = np.tile(example, (np.size(self.X_, 0), 1))\n",
    "            #print(t.shape)\n",
    "            #print(example[0])\n",
    "            # Calculate distance between example and all stored training examples\n",
    "            distances = self.dist(t, self.X_)\n",
    "            # Get indices of k smallest distances\n",
    "            idx = np.argpartition(distances, self.k_)\n",
    "            predictions.append(sum(self.y_[idx[:self.k_]]) / self.k_)\n",
    "        return np.array(predictions)\n",
    "    \n",
    "    def get_params(self, deep):\n",
    "        return dict(k=self.k_, p=self.p_)\n"
   ]
  },
  {
   "cell_type": "code",
   "execution_count": 32,
   "metadata": {},
   "outputs": [
    {
     "name": "stdout",
     "output_type": "stream",
     "text": [
      "<class 'numpy.ndarray'>\n"
     ]
    },
    {
     "data": {
      "text/plain": [
       "GhettoKNN(k=1, p=2)"
      ]
     },
     "execution_count": 32,
     "metadata": {},
     "output_type": "execute_result"
    }
   ],
   "source": [
    "reg = GhettoKNN()\n",
    "reg.fit(X_train, y_train)"
   ]
  },
  {
   "cell_type": "code",
   "execution_count": 33,
   "metadata": {},
   "outputs": [
    {
     "data": {
      "text/plain": [
       "array([1.07700e+03, 0.00000e+00, 7.28160e+04, 0.00000e+00, 1.96567e+05,\n",
       "       1.32360e+05, 6.45700e+03, 2.22390e+04, 2.52880e+04, 0.00000e+00,\n",
       "       1.48860e+04, 1.60500e+03, 3.60490e+04, 3.58700e+03, 1.38100e+04,\n",
       "       3.40760e+04, 8.14606e+05, 0.00000e+00, 2.06252e+05, 0.00000e+00,\n",
       "       3.69460e+04, 5.35000e+02, 4.37610e+04, 7.85550e+04, 9.50600e+03,\n",
       "       0.00000e+00, 3.12786e+05, 4.05330e+04, 1.17456e+06, 1.02230e+04,\n",
       "       7.83760e+04, 0.00000e+00, 6.52653e+05, 4.66300e+03, 0.00000e+00,\n",
       "       0.00000e+00, 1.43500e+03, 4.57340e+04, 0.00000e+00, 1.61400e+03,\n",
       "       0.00000e+00, 5.02200e+03, 4.48400e+03, 8.55500e+04, 1.20160e+04,\n",
       "       1.07600e+03, 9.77460e+04, 3.76600e+03, 7.89100e+03, 0.00000e+00,\n",
       "       4.12500e+03, 1.97300e+03, 3.33590e+04, 1.43480e+04, 2.15200e+03,\n",
       "       5.77510e+04, 1.90110e+04, 5.91900e+03, 2.56470e+04, 0.00000e+00,\n",
       "       1.05820e+04, 0.00000e+00, 4.42990e+04, 3.39509e+05, 1.00440e+04,\n",
       "       2.69000e+03, 0.00000e+00, 1.79300e+03, 1.43500e+03, 0.00000e+00,\n",
       "       0.00000e+00, 8.03000e+02, 0.00000e+00, 9.72070e+04, 0.00000e+00,\n",
       "       0.00000e+00, 0.00000e+00, 2.65440e+04, 1.38458e+05, 1.97300e+03,\n",
       "       0.00000e+00, 4.84200e+03, 5.88270e+04, 1.80605e+05, 1.40969e+05,\n",
       "       2.20600e+04, 6.34900e+04, 5.39000e+02, 6.48169e+05, 1.63210e+04,\n",
       "       6.63600e+03, 3.51530e+04, 2.49300e+04, 0.00000e+00, 5.20100e+03,\n",
       "       1.12990e+04, 2.35665e+05, 3.94600e+03, 3.40800e+03, 3.12427e+05])"
      ]
     },
     "execution_count": 33,
     "metadata": {},
     "output_type": "execute_result"
    }
   ],
   "source": [
    "predictions = reg.predict(X_train)\n",
    "predictions[:100]"
   ]
  },
  {
   "cell_type": "code",
   "execution_count": 34,
   "metadata": {},
   "outputs": [
    {
     "data": {
      "text/plain": [
       "8875       1077\n",
       "7792          0\n",
       "4427      72816\n",
       "12389         0\n",
       "4684     196567\n",
       "          ...  \n",
       "9740      11299\n",
       "2344     235665\n",
       "11424      3946\n",
       "7195       3408\n",
       "75       312427\n",
       "Name: SteamSpyOwners, Length: 100, dtype: int64"
      ]
     },
     "execution_count": 34,
     "metadata": {},
     "output_type": "execute_result"
    }
   ],
   "source": [
    "y_train[:100]"
   ]
  },
  {
   "cell_type": "code",
   "execution_count": 35,
   "metadata": {},
   "outputs": [
    {
     "data": {
      "text/plain": [
       "array([95593., 95593., 95593., 95593., 95593., 95593., 95593., 95593.,\n",
       "       95593., 95593., 95593., 95593., 95593., 95593., 95593., 95593.,\n",
       "       95593., 95593., 95593., 95593., 95593., 95593., 95593., 95593.,\n",
       "       95593., 95593., 95593., 95593., 95593., 95593., 95593., 95593.,\n",
       "       95593., 95593., 95593., 95593., 95593., 95593., 95593., 95593.,\n",
       "       95593., 95593., 95593., 95593., 95593., 95593., 95593., 95593.,\n",
       "       95593., 95593., 95593., 95593., 95593., 95593., 95593., 95593.,\n",
       "       95593., 95593., 95593., 95593., 95593., 95593., 95593., 95593.,\n",
       "       95593., 95593., 95593., 95593., 95593., 95593., 95593., 95593.,\n",
       "       95593., 95593., 95593., 95593., 95593., 95593., 95593., 95593.,\n",
       "       95593., 95593., 95593., 95593., 95593., 95593., 95593., 95593.,\n",
       "       95593., 95593., 95593., 95593., 95593., 95593., 95593., 95593.,\n",
       "       95593., 95593., 95593., 95593.])"
      ]
     },
     "execution_count": 35,
     "metadata": {},
     "output_type": "execute_result"
    }
   ],
   "source": [
    "reg = KNeighborsRegressor(n_neighbors=2).fit(X, y)\n",
    "\n",
    "reg.predict(X_train)[:100]"
   ]
  },
  {
   "cell_type": "code",
   "execution_count": 36,
   "metadata": {},
   "outputs": [
    {
     "name": "stdout",
     "output_type": "stream",
     "text": [
      "<class 'numpy.ndarray'>\n"
     ]
    },
    {
     "data": {
      "text/plain": [
       "array([95593., 95593., 95593., 95593., 95593., 95593., 95593., 95593.,\n",
       "       95593., 95593., 95593., 95593., 95593., 95593., 95593., 95593.,\n",
       "       95593., 95593., 95593., 95593., 95593., 95593., 95593., 95593.,\n",
       "       95593., 95593., 95593., 95593., 95593., 95593., 95593., 95593.,\n",
       "       95593., 95593., 95593., 95593., 95593., 95593., 95593., 95593.,\n",
       "       95593., 95593., 95593., 95593., 95593., 95593., 95593., 95593.,\n",
       "       95593., 95593., 95593., 95593., 95593., 95593., 95593., 95593.,\n",
       "       95593., 95593., 95593., 95593., 95593., 95593., 95593., 95593.,\n",
       "       95593., 95593., 95593., 95593., 95593., 95593., 95593., 95593.,\n",
       "       95593., 95593., 95593., 95593., 95593., 95593., 95593., 95593.,\n",
       "       95593., 95593., 95593., 95593., 95593., 95593., 95593., 95593.,\n",
       "       95593., 95593., 95593., 95593., 95593., 95593., 95593., 95593.,\n",
       "       95593., 95593., 95593., 95593.])"
      ]
     },
     "execution_count": 36,
     "metadata": {},
     "output_type": "execute_result"
    }
   ],
   "source": [
    "reg = GhettoKNN(k=2).fit(X, y)\n",
    "\n",
    "reg.predict(X_train)[:100]"
   ]
  },
  {
   "cell_type": "code",
   "execution_count": 37,
   "metadata": {},
   "outputs": [
    {
     "name": "stdout",
     "output_type": "stream",
     "text": [
      "<class 'numpy.ndarray'>\n",
      "[1.8509000e+04 3.9959000e+04 2.7297000e+04 5.9544000e+04 1.7918458e+06\n",
      " 3.3215600e+04 7.8904000e+03 7.8770200e+04 2.5492740e+05 1.6392400e+04\n",
      " 9.4804200e+04 2.4676800e+04 9.1108000e+03 1.0717920e+05 4.8101600e+04\n",
      " 2.5216400e+04 4.1670080e+05 1.0394000e+03 8.6625800e+04 0.0000000e+00]\n",
      "[1.8509000e+04 3.9959000e+04 2.7297000e+04 5.9544000e+04 1.7918458e+06\n",
      " 3.3215600e+04 7.8904000e+03 7.8770200e+04 2.5492740e+05 1.6392400e+04\n",
      " 9.4804200e+04 2.4676800e+04 9.1108000e+03 1.0717920e+05 4.8101600e+04\n",
      " 2.5216400e+04 4.1670080e+05 1.0394000e+03 8.6625800e+04 0.0000000e+00]\n"
     ]
    }
   ],
   "source": [
    "models = [GhettoKNN(k=5, p=2), KNeighborsRegressor(n_neighbors=5)]\n",
    "\n",
    "# Compare predictions of hand-implementation to library\n",
    "for reg in models:\n",
    "    reg.fit(X_train, y_train)\n",
    "    predictions = reg.predict(X_train)\n",
    "    print(predictions[:20])"
   ]
  },
  {
   "cell_type": "code",
   "execution_count": 38,
   "metadata": {},
   "outputs": [
    {
     "name": "stdout",
     "output_type": "stream",
     "text": [
      "<class 'numpy.ndarray'>\n",
      "<class 'numpy.ndarray'>\n",
      "<class 'numpy.ndarray'>\n",
      "<class 'numpy.ndarray'>\n",
      "<class 'numpy.ndarray'>\n",
      "GhettoKNN performance: 981778.3355074184\n",
      "KNeighborsRegressor performance: 981725.7355413493\n"
     ]
    }
   ],
   "source": [
    "# Compare performance\n",
    "compareModels(models)"
   ]
  },
  {
   "cell_type": "markdown",
   "metadata": {},
   "source": [
    "## Boosting"
   ]
  },
  {
   "cell_type": "code",
   "execution_count": 10,
   "metadata": {},
   "outputs": [],
   "source": [
    "import xgboost as xgb\n",
    "\n",
    "xdg_X_train, xdg_X_test, xdg_y_train, xdg_y_test = train_test_split(X_train, y_train, test_size=0.2, random_state=666)"
   ]
  },
  {
   "cell_type": "code",
   "execution_count": 17,
   "metadata": {},
   "outputs": [
    {
     "name": "stdout",
     "output_type": "stream",
     "text": [
      "[0]\teval-rmse:505088.18750\ttrain-rmse:857371.56250\n",
      "[1]\teval-rmse:465278.09375\ttrain-rmse:677684.75000\n",
      "[2]\teval-rmse:443863.34375\ttrain-rmse:629999.00000\n",
      "[3]\teval-rmse:395607.46875\ttrain-rmse:506575.28125\n",
      "[4]\teval-rmse:400005.34375\ttrain-rmse:471569.40625\n",
      "[5]\teval-rmse:399980.78125\ttrain-rmse:442725.56250\n",
      "[6]\teval-rmse:382556.00000\ttrain-rmse:419188.96875\n",
      "[7]\teval-rmse:392624.00000\ttrain-rmse:396945.96875\n",
      "[8]\teval-rmse:382524.90625\ttrain-rmse:370601.56250\n"
     ]
    }
   ],
   "source": [
    "d_train = xgb.DMatrix(xdg_X_train, label=xdg_y_train)\n",
    "d_test = xgb.DMatrix(xdg_X_test, label=xdg_y_test)\n",
    "\n",
    "param = {'max_depth': 2, 'eta': 1, 'objective': 'reg:squarederror'}\n",
    "\n",
    "num_round = 9\n",
    "\n",
    "evallist = [(d_test, 'eval'), (d_train, 'train')]\n",
    "\n",
    "bst = xgb.train(param, d_train, num_round, evallist)"
   ]
  },
  {
   "cell_type": "code",
   "execution_count": null,
   "metadata": {},
   "outputs": [],
   "source": []
  }
 ],
 "metadata": {
  "kernelspec": {
   "display_name": "Python 3",
   "language": "python",
   "name": "python3"
  },
  "language_info": {
   "codemirror_mode": {
    "name": "ipython",
    "version": 3
   },
   "file_extension": ".py",
   "mimetype": "text/x-python",
   "name": "python",
   "nbconvert_exporter": "python",
   "pygments_lexer": "ipython3",
   "version": "3.7.4"
  }
 },
 "nbformat": 4,
 "nbformat_minor": 4
}
