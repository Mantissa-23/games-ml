{
 "cells": [
  {
   "cell_type": "code",
   "execution_count": 80,
   "metadata": {},
   "outputs": [
    {
     "name": "stderr",
     "output_type": "stream",
     "text": [
      "[nltk_data] Downloading package stopwords to /home/dylan/nltk_data...\n",
      "[nltk_data]   Package stopwords is already up-to-date!\n"
     ]
    },
    {
     "data": {
      "text/plain": [
       "True"
      ]
     },
     "execution_count": 80,
     "metadata": {},
     "output_type": "execute_result"
    }
   ],
   "source": [
    "import numpy as np\n",
    "import matplotlib.pyplot as plt\n",
    "import pandas as pd\n",
    "\n",
    "from sklearn.feature_extraction.text import TfidfVectorizer, CountVectorizer\n",
    "from sklearn.pipeline import Pipeline\n",
    "from sklearn.ensemble import RandomForestClassifier\n",
    "from sklearn.svm import SVC\n",
    "from sklearn.model_selection import train_test_split, cross_val_score\n",
    "\n",
    "from nltk.corpus import stopwords\n",
    "\n",
    "import nltk\n",
    "\n",
    "#nltk.download('stopwords')"
   ]
  },
  {
   "cell_type": "markdown",
   "metadata": {},
   "source": [
    "### Metacritic Reviews\n",
    "\n",
    "The Metacritic dataset originates from https://www.kaggle.com/skateddu/metacritic-critic-games-reviews-20112019 and was created by Andrea Cadeddu. It contains over 120,000 _individual reviews_ for many videogames, as well as the score each review gives each game. It will be used for text classification, particularly sentiment analysis of these reviews. I intend it as a more relevant-to-me alternative to the IMDB dataset as a sort of hello-world for sentiment analysis. Metacritic was chosen because it is a _meta_-review site; it compiles reviews published by other game journalism outlets."
   ]
  },
  {
   "cell_type": "code",
   "execution_count": 6,
   "metadata": {},
   "outputs": [],
   "source": [
    "metacritic = pd.read_csv(\"data/metacritic_critic_reviews.csv\")"
   ]
  },
  {
   "cell_type": "code",
   "execution_count": 41,
   "metadata": {},
   "outputs": [
    {
     "data": {
      "text/html": [
       "<div>\n",
       "<style scoped>\n",
       "    .dataframe tbody tr th:only-of-type {\n",
       "        vertical-align: middle;\n",
       "    }\n",
       "\n",
       "    .dataframe tbody tr th {\n",
       "        vertical-align: top;\n",
       "    }\n",
       "\n",
       "    .dataframe thead th {\n",
       "        text-align: right;\n",
       "    }\n",
       "</style>\n",
       "<table border=\"1\" class=\"dataframe\">\n",
       "  <thead>\n",
       "    <tr style=\"text-align: right;\">\n",
       "      <th></th>\n",
       "      <th>name</th>\n",
       "      <th>review</th>\n",
       "      <th>game</th>\n",
       "      <th>platform</th>\n",
       "      <th>score</th>\n",
       "      <th>date</th>\n",
       "    </tr>\n",
       "  </thead>\n",
       "  <tbody>\n",
       "    <tr>\n",
       "      <th>123844</th>\n",
       "      <td>The Jimquisition</td>\n",
       "      <td>Nothing short of a mega patch will fix everyth...</td>\n",
       "      <td>We Happy Few</td>\n",
       "      <td>PC</td>\n",
       "      <td>NaN</td>\n",
       "      <td>Aug 14, 2018</td>\n",
       "    </tr>\n",
       "    <tr>\n",
       "      <th>64092</th>\n",
       "      <td>Everyeye.it</td>\n",
       "      <td>It's a great twin stick shooter, one that deli...</td>\n",
       "      <td>Assault Android Cactus</td>\n",
       "      <td>PlayStation 4</td>\n",
       "      <td>80.0</td>\n",
       "      <td>Mar 10, 2016</td>\n",
       "    </tr>\n",
       "    <tr>\n",
       "      <th>41816</th>\n",
       "      <td>Gamer.no</td>\n",
       "      <td>Rise of the Dark Spark isn't completely hopele...</td>\n",
       "      <td>Transformers: Rise of the Dark Spark</td>\n",
       "      <td>PlayStation 4</td>\n",
       "      <td>40.0</td>\n",
       "      <td>Jul 11, 2014</td>\n",
       "    </tr>\n",
       "    <tr>\n",
       "      <th>15695</th>\n",
       "      <td>IGN</td>\n",
       "      <td>Deus Ex Human Revolution - Director’s Cut had ...</td>\n",
       "      <td>Deus Ex: Human Revolution - Director's Cut</td>\n",
       "      <td>Wii U</td>\n",
       "      <td>83.0</td>\n",
       "      <td>Oct 21, 2013</td>\n",
       "    </tr>\n",
       "  </tbody>\n",
       "</table>\n",
       "</div>"
      ],
      "text/plain": [
       "                    name                                             review  \\\n",
       "123844  The Jimquisition  Nothing short of a mega patch will fix everyth...   \n",
       "64092        Everyeye.it  It's a great twin stick shooter, one that deli...   \n",
       "41816           Gamer.no  Rise of the Dark Spark isn't completely hopele...   \n",
       "15695                IGN  Deus Ex Human Revolution - Director’s Cut had ...   \n",
       "\n",
       "                                              game       platform  score  \\\n",
       "123844                                We Happy Few             PC    NaN   \n",
       "64092                       Assault Android Cactus  PlayStation 4   80.0   \n",
       "41816         Transformers: Rise of the Dark Spark  PlayStation 4   40.0   \n",
       "15695   Deus Ex: Human Revolution - Director's Cut          Wii U   83.0   \n",
       "\n",
       "                date  \n",
       "123844  Aug 14, 2018  \n",
       "64092   Mar 10, 2016  \n",
       "41816   Jul 11, 2014  \n",
       "15695   Oct 21, 2013  "
      ]
     },
     "execution_count": 41,
     "metadata": {},
     "output_type": "execute_result"
    }
   ],
   "source": [
    "metacritic.sample(4)"
   ]
  },
  {
   "cell_type": "code",
   "execution_count": 8,
   "metadata": {},
   "outputs": [
    {
     "data": {
      "text/plain": [
       "name           0\n",
       "review         0\n",
       "game           0\n",
       "platform       0\n",
       "score       1565\n",
       "date          44\n",
       "dtype: int64"
      ]
     },
     "execution_count": 8,
     "metadata": {},
     "output_type": "execute_result"
    }
   ],
   "source": [
    "metacritic.isna().sum()\n",
    "# Oh no, we have some reviewers that didn't score. Well, they'll be useless for training and testing, so I'm just going to drop them.\n",
    "# as for those without dates... That information is still useful for analysis. So I'll drop those as well."
   ]
  },
  {
   "cell_type": "code",
   "execution_count": 9,
   "metadata": {},
   "outputs": [
    {
     "data": {
      "text/plain": [
       "(125876, 6)"
      ]
     },
     "execution_count": 9,
     "metadata": {},
     "output_type": "execute_result"
    }
   ],
   "source": [
    "metacritic.shape"
   ]
  },
  {
   "cell_type": "code",
   "execution_count": 90,
   "metadata": {},
   "outputs": [
    {
     "name": "stderr",
     "output_type": "stream",
     "text": [
      "/home/dylan/.build/miniconda3/lib/python3.7/site-packages/ipykernel_launcher.py:4: SettingWithCopyWarning: \n",
      "A value is trying to be set on a copy of a slice from a DataFrame.\n",
      "Try using .loc[row_indexer,col_indexer] = value instead\n",
      "\n",
      "See the caveats in the documentation: https://pandas.pydata.org/pandas-docs/stable/user_guide/indexing.html#returning-a-view-versus-a-copy\n",
      "  after removing the cwd from sys.path.\n",
      "/home/dylan/.build/miniconda3/lib/python3.7/site-packages/ipykernel_launcher.py:5: SettingWithCopyWarning: \n",
      "A value is trying to be set on a copy of a slice from a DataFrame.\n",
      "Try using .loc[row_indexer,col_indexer] = value instead\n",
      "\n",
      "See the caveats in the documentation: https://pandas.pydata.org/pandas-docs/stable/user_guide/indexing.html#returning-a-view-versus-a-copy\n",
      "  \"\"\"\n",
      "/home/dylan/.build/miniconda3/lib/python3.7/site-packages/ipykernel_launcher.py:6: SettingWithCopyWarning: \n",
      "A value is trying to be set on a copy of a slice from a DataFrame.\n",
      "Try using .loc[row_indexer,col_indexer] = value instead\n",
      "\n",
      "See the caveats in the documentation: https://pandas.pydata.org/pandas-docs/stable/user_guide/indexing.html#returning-a-view-versus-a-copy\n",
      "  \n",
      "/home/dylan/.build/miniconda3/lib/python3.7/site-packages/ipykernel_launcher.py:7: SettingWithCopyWarning: \n",
      "A value is trying to be set on a copy of a slice from a DataFrame.\n",
      "Try using .loc[row_indexer,col_indexer] = value instead\n",
      "\n",
      "See the caveats in the documentation: https://pandas.pydata.org/pandas-docs/stable/user_guide/indexing.html#returning-a-view-versus-a-copy\n",
      "  import sys\n"
     ]
    }
   ],
   "source": [
    "def metacritic_clean(df):\n",
    "    ret = df.dropna()\n",
    "    \n",
    "    ret['date'] = pd.to_datetime(ret['date'], errors='coerce')\n",
    "    ret['year'] = pd.DatetimeIndex(ret['date']).year\n",
    "    ret['month'] = pd.DatetimeIndex(ret['date']).month\n",
    "    ret['day'] = pd.DatetimeIndex(ret['date']).day\n",
    "    ret = ret.drop(['date', 'platform', 'game', 'name'], axis=1)\n",
    "    \n",
    "    # Let's convert scores into 'very low' through 'very high' for the sake of our own sanity.\n",
    "    temp = pd.cut(ret['score'], bins=[0,20,40,60,80,100], include_lowest=True, labels=['very bad', 'bad', 'neutral', 'good', 'very good'])\n",
    "    ret['score_coarse'] = pd.cut(ret['score'], bins=[0,33.3333,66.6666,100], include_lowest=True, labels=['bad', 'neutral', 'good'])\n",
    "    ret['score'] = temp\n",
    "    \n",
    "    return ret\n",
    "\n",
    "metacritic_cleaned = metacritic_clean(metacritic)\n",
    "\n",
    "# The rest of this will have to be handled by the RNN"
   ]
  },
  {
   "cell_type": "code",
   "execution_count": 99,
   "metadata": {},
   "outputs": [],
   "source": [
    "df_train, df_test = train_test_split(metacritic_cleaned, test_size=0.2)\n",
    "\n",
    "X_train = df_train.drop(['score', 'score_coarse'], axis=1)\n",
    "y_train = df_train['score']\n",
    "y_coarse = df_train['score_coarse']\n",
    "\n",
    "X_train_text = X_train['review']"
   ]
  },
  {
   "cell_type": "markdown",
   "metadata": {},
   "source": [
    "## tf-idf bag-of-words approach"
   ]
  },
  {
   "cell_type": "code",
   "execution_count": 43,
   "metadata": {},
   "outputs": [],
   "source": [
    "text_clf = Pipeline([\n",
    "    ('vect', TfidfVectorizer()),\n",
    "    ('clf', RandomForestClassifier())\n",
    "])"
   ]
  },
  {
   "cell_type": "code",
   "execution_count": 45,
   "metadata": {},
   "outputs": [
    {
     "name": "stderr",
     "output_type": "stream",
     "text": [
      "[Parallel(n_jobs=4)]: Using backend LokyBackend with 4 concurrent workers.\n",
      "[Parallel(n_jobs=4)]: Done   3 out of   3 | elapsed:  4.9min remaining:    0.0s\n",
      "[Parallel(n_jobs=4)]: Done   3 out of   3 | elapsed:  4.9min finished\n"
     ]
    },
    {
     "data": {
      "text/plain": [
       "array([0.55926731, 0.56382401, 0.56031023])"
      ]
     },
     "execution_count": 45,
     "metadata": {},
     "output_type": "execute_result"
    }
   ],
   "source": [
    "cross_val_score(text_clf, X_train_text, y_train, cv=3, verbose=10, n_jobs=4)"
   ]
  },
  {
   "cell_type": "code",
   "execution_count": 50,
   "metadata": {},
   "outputs": [
    {
     "data": {
      "text/plain": [
       "array(['wiser', 'apocalyptia', 'matters', 'pitiless', 'manliest', 'chose',\n",
       "       'belligerent', 'hurdle', 'exam', 'gist', 'carefulprogress',\n",
       "       'connors', 'front', 'sighs', 'aruban', 'wolverine', 'bang',\n",
       "       'parting', 'education', 'golf'], dtype='<U26')"
      ]
     },
     "execution_count": 50,
     "metadata": {},
     "output_type": "execute_result"
    }
   ],
   "source": [
    "np.random.choice(tf.get_feature_names(), 20)"
   ]
  },
  {
   "cell_type": "code",
   "execution_count": 69,
   "metadata": {},
   "outputs": [],
   "source": [
    "def get_tfidf_for_words(data):\n",
    "    tfidf = TfidfVectorizer(min_df=3)\n",
    "    tfidf.fit(data)\n",
    "    feature_names = tfidf.get_feature_names()\n",
    "    tfidf_matrix = tfidf.transform([' '.join(feature_names)]).todense()\n",
    "    feature_index = tfidf_matrix[0,:].nonzero()[1]\n",
    "    tfidf_scores = zip([feature_names[i] for i in feature_index], [tfidf_matrix[0, x] for x in feature_index])\n",
    "    #return dict(tfidf_scores)\n",
    "    return list(tfidf_scores)\n",
    "\n",
    "wordscores = pd.DataFrame(get_tfidf_for_words(X_train_text), columns=['word', 'score'])"
   ]
  },
  {
   "cell_type": "code",
   "execution_count": 70,
   "metadata": {},
   "outputs": [],
   "source": [
    "sortedwordscores = wordscores.sort_values('score')"
   ]
  },
  {
   "cell_type": "code",
   "execution_count": 78,
   "metadata": {},
   "outputs": [
    {
     "data": {
      "text/plain": [
       "<matplotlib.axes._subplots.AxesSubplot at 0x7fab043fcc50>"
      ]
     },
     "execution_count": 78,
     "metadata": {},
     "output_type": "execute_result"
    },
    {
     "data": {
      "image/png": "[encoded data removed]",
      "text/plain": [
       "<Figure size 432x288 with 1 Axes>"
      ]
     },
     "metadata": {
      "needs_background": "light"
     },
     "output_type": "display_data"
    }
   ],
   "source": [
    "sortedwordscores.head(20).plot.bar(x='word', y='score', title='Most useless words')"
   ]
  },
  {
   "cell_type": "code",
   "execution_count": 79,
   "metadata": {},
   "outputs": [
    {
     "data": {
      "text/plain": [
       "<matplotlib.axes._subplots.AxesSubplot at 0x7fab04217e50>"
      ]
     },
     "execution_count": 79,
     "metadata": {},
     "output_type": "execute_result"
    },
    {
     "data": {
      "image/png": "[encoded data removed]",
      "text/plain": [
       "<Figure size 432x288 with 1 Axes>"
      ]
     },
     "metadata": {
      "needs_background": "light"
     },
     "output_type": "display_data"
    }
   ],
   "source": [
    "sortedwordscores.tail(20).plot.bar(x='word', y='score', title='Most useful words')"
   ]
  },
  {
   "cell_type": "code",
   "execution_count": 82,
   "metadata": {},
   "outputs": [
    {
     "data": {
      "text/plain": [
       "(21241, 2)"
      ]
     },
     "execution_count": 82,
     "metadata": {},
     "output_type": "execute_result"
    }
   ],
   "source": [
    "sortedwordscores.shape"
   ]
  },
  {
   "cell_type": "code",
   "execution_count": 109,
   "metadata": {},
   "outputs": [
    {
     "data": {
      "text/plain": [
       "Text(0, 0.5, 'Count')"
      ]
     },
     "execution_count": 109,
     "metadata": {},
     "output_type": "execute_result"
    },
    {
     "data": {
      "image/png": "[encoded data removed]",
      "text/plain": [
       "<Figure size 432x288 with 1 Axes>"
      ]
     },
     "metadata": {
      "needs_background": "light"
     },
     "output_type": "display_data"
    }
   ],
   "source": [
    "metacritic['score'].hist()\n",
    "plt.title('Histogram of review scores')\n",
    "plt.xlabel('Score')\n",
    "plt.ylabel('Count')"
   ]
  },
  {
   "cell_type": "code",
   "execution_count": 85,
   "metadata": {},
   "outputs": [
    {
     "name": "stderr",
     "output_type": "stream",
     "text": [
      "[Parallel(n_jobs=4)]: Using backend LokyBackend with 4 concurrent workers.\n",
      "[Parallel(n_jobs=4)]: Done   3 out of   3 | elapsed:  3.7min remaining:    0.0s\n",
      "[Parallel(n_jobs=4)]: Done   3 out of   3 | elapsed:  3.7min finished\n",
      "[Parallel(n_jobs=4)]: Using backend LokyBackend with 4 concurrent workers.\n"
     ]
    },
    {
     "name": "stdout",
     "output_type": "stream",
     "text": [
      "[0.56297906 0.56910496 0.56694933]\n",
      "[0.51629549 0.53111232 0.49621269]\n"
     ]
    },
    {
     "name": "stderr",
     "output_type": "stream",
     "text": [
      "[Parallel(n_jobs=4)]: Done   3 out of   3 | elapsed: 31.2min remaining:    0.0s\n",
      "[Parallel(n_jobs=4)]: Done   3 out of   3 | elapsed: 31.2min finished\n"
     ]
    }
   ],
   "source": [
    "for model in [RandomForestClassifier(), SVC(kernel='rbf', C=0.1, max_iter=10000)]:\n",
    "    pipe = Pipeline([\n",
    "        ('vect', TfidfVectorizer(max_features=5000)),\n",
    "        ('clf', model)\n",
    "    ])\n",
    "    print(cross_val_score(pipe, X_train_text, y_train, cv=3, verbose=10, n_jobs=4))"
   ]
  },
  {
   "cell_type": "code",
   "execution_count": 87,
   "metadata": {},
   "outputs": [
    {
     "name": "stderr",
     "output_type": "stream",
     "text": [
      "[Parallel(n_jobs=4)]: Using backend LokyBackend with 4 concurrent workers.\n",
      "[Parallel(n_jobs=4)]: Done   3 out of   3 | elapsed:  1.3min remaining:    0.0s\n",
      "[Parallel(n_jobs=4)]: Done   3 out of   3 | elapsed:  1.3min finished\n",
      "[Parallel(n_jobs=4)]: Using backend LokyBackend with 4 concurrent workers.\n"
     ]
    },
    {
     "name": "stdout",
     "output_type": "stream",
     "text": [
      "[0.45859738 0.45865773 0.45704198]\n",
      "[0.49981894 0.47057758 0.49838549]\n"
     ]
    },
    {
     "name": "stderr",
     "output_type": "stream",
     "text": [
      "[Parallel(n_jobs=4)]: Done   3 out of   3 | elapsed:  2.9min remaining:    0.0s\n",
      "[Parallel(n_jobs=4)]: Done   3 out of   3 | elapsed:  2.9min finished\n"
     ]
    }
   ],
   "source": [
    "from sklearn.tree import DecisionTreeClassifier\n",
    "from sklearn.neighbors import KNeighborsClassifier\n",
    "\n",
    "for model in [DecisionTreeClassifier(), KNeighborsClassifier()]:\n",
    "    pipe = Pipeline([\n",
    "        ('vect', TfidfVectorizer(max_features=5000)),\n",
    "        ('clf', model)\n",
    "    ])\n",
    "    print(cross_val_score(pipe, X_train_text, y_train, cv=3, verbose=10, n_jobs=4))"
   ]
  },
  {
   "cell_type": "code",
   "execution_count": 94,
   "metadata": {},
   "outputs": [
    {
     "data": {
      "text/plain": [
       "Text(0, 0.5, 'Classification Accuracy')"
      ]
     },
     "execution_count": 94,
     "metadata": {},
     "output_type": "execute_result"
    },
    {
     "data": {
      "image/png": "[encoded data removed]",
      "text/plain": [
       "<Figure size 432x288 with 1 Axes>"
      ]
     },
     "metadata": {
      "needs_background": "light"
     },
     "output_type": "display_data"
    }
   ],
   "source": [
    "scores = pd.DataFrame({\n",
    "    'model': ['Random Choice', 'DecisionTree', 'KNeighbors', 'SVC', 'RandomForest'],\n",
    "    'accuracy': [0.2, np.mean([0.45859738, 0.45865773, 0.45704198]), np.mean([[0.49981894, 0.47057758, 0.49838549]]), np.mean([[0.51629549, 0.53111232, 0.49621269]]), np.mean([[0.56297906, 0.56910496, 0.56694933]])]\n",
    "})\n",
    "scores.plot.bar(x='model', y='accuracy', title='Comparison of Classifier Performance on Tf-Idf Vectorized Reviews')\n",
    "plt.ylabel('Classification Accuracy')"
   ]
  },
  {
   "cell_type": "code",
   "execution_count": 100,
   "metadata": {},
   "outputs": [
    {
     "name": "stderr",
     "output_type": "stream",
     "text": [
      "[Parallel(n_jobs=4)]: Using backend LokyBackend with 4 concurrent workers.\n",
      "[Parallel(n_jobs=4)]: Done   3 out of   3 | elapsed:  1.4min remaining:    0.0s\n",
      "[Parallel(n_jobs=4)]: Done   3 out of   3 | elapsed:  1.4min finished\n",
      "[Parallel(n_jobs=4)]: Using backend LokyBackend with 4 concurrent workers.\n",
      "[Parallel(n_jobs=4)]: Done   3 out of   3 | elapsed:  2.6min remaining:    0.0s\n",
      "[Parallel(n_jobs=4)]: Done   3 out of   3 | elapsed:  2.6min finished\n",
      "[Parallel(n_jobs=4)]: Using backend LokyBackend with 4 concurrent workers.\n",
      "[Parallel(n_jobs=4)]: Done   3 out of   3 | elapsed:  2.8min remaining:    0.0s\n",
      "[Parallel(n_jobs=4)]: Done   3 out of   3 | elapsed:  2.8min finished\n"
     ]
    }
   ],
   "source": [
    "scores_coarse = []\n",
    "for model in [DecisionTreeClassifier(), KNeighborsClassifier(), RandomForestClassifier()]:\n",
    "    pipe = Pipeline([\n",
    "        ('vect', TfidfVectorizer(max_features=5000)),\n",
    "        ('clf', model)\n",
    "    ])\n",
    "    scores_coarse.append(cross_val_score(pipe, X_train_text, y_coarse, cv=3, verbose=10, n_jobs=4))"
   ]
  },
  {
   "cell_type": "code",
   "execution_count": 102,
   "metadata": {},
   "outputs": [
    {
     "data": {
      "text/plain": [
       "Text(0, 0.5, 'Coarse Classification Accuracy')"
      ]
     },
     "execution_count": 102,
     "metadata": {},
     "output_type": "execute_result"
    },
    {
     "data": {
      "image/png": "[encoded data removed]",
      "text/plain": [
       "<Figure size 432x288 with 1 Axes>"
      ]
     },
     "metadata": {
      "needs_background": "light"
     },
     "output_type": "display_data"
    }
   ],
   "source": [
    "scores = pd.DataFrame({\n",
    "    'model': ['Random Choice', 'DecisionTreeClassifier', 'KNeighborsClassifier', 'RandomForestClassifier'],\n",
    "    'accuracy': [0.33] + list(np.mean(scores_coarse, axis=0))\n",
    "})\n",
    "scores.plot.bar(x='model', y='accuracy', title='Comparison of Classifier Performance on Tf-Idf Vectorized Reviews (Coarse Classification)')\n",
    "plt.ylabel('Coarse Classification Accuracy')"
   ]
  },
  {
   "cell_type": "code",
   "execution_count": 103,
   "metadata": {},
   "outputs": [
    {
     "data": {
      "text/plain": [
       "[array([0.71597562, 0.71663951, 0.71762682]),\n",
       " array([0.77014304, 0.76872473, 0.77834445]),\n",
       " array([0.78800773, 0.78855091, 0.78757884])]"
      ]
     },
     "execution_count": 103,
     "metadata": {},
     "output_type": "execute_result"
    }
   ],
   "source": [
    "scores_coarse"
   ]
  },
  {
   "cell_type": "code",
   "execution_count": null,
   "metadata": {},
   "outputs": [],
   "source": []
  }
 ],
 "metadata": {
  "kernelspec": {
   "display_name": "Python 3",
   "language": "python",
   "name": "python3"
  },
  "language_info": {
   "codemirror_mode": {
    "name": "ipython",
    "version": 3
   },
   "file_extension": ".py",
   "mimetype": "text/x-python",
   "name": "python",
   "nbconvert_exporter": "python",
   "pygments_lexer": "ipython3",
   "version": "3.7.4"
  }
 },
 "nbformat": 4,
 "nbformat_minor": 4
}
